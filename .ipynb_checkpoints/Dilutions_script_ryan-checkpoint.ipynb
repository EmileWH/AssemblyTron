{
 "cells": [
  {
   "cell_type": "code",
   "execution_count": null,
   "metadata": {},
   "outputs": [],
   "source": [
    "from opentrons import protocol_api\n",
    "import pyarrow.feather as feather\n",
    "import pandas as pd\n",
    "metadata = {\n",
    "    'protocolName': 'Dilution',\n",
    "    'author': 'Ryan Miller',\n",
    "    'description': 'Primer Dilutions',\n",
    "    'apiLevel': '2.2'\n",
    "}\n",
    "\n",
    "# protocol run function. the part after the colon lets your editor know\n",
    "# where to look for autocomplete suggestions\n",
    "def run(j5_path: getcwd(), file : 'oligos.feather', protocol: protocol_api.ProtocolContext):\n",
    "\n",
    "    # labware\n",
    "    plate = protocol.load_labware('opentrons_24_tuberack_generic_2ml_screwcap', '2')\n",
    "    tiprack = protocol.load_labware('opentrons_96_tiprack_1000ul', '1')\n",
    "    tiprack_disposal = protocol.load_labware('opentrons_96_tiprack_1000ul', '3')\n",
    "    reagent_rack = protocol.load_labware('opentrons_10_tuberack_falcon_4x50ml_6x15ml_conical','4')\n",
    "    mgwater = reagent_rack['A1']\n",
    "    # pipettes\n",
    "    left_pipette = protocol.load_instrument('p1000_single', 'left', tip_racks=[tiprack])\n",
    "\n",
    "    # commands\n",
    "    oligos = feather.read_feather(joinStrings([j5_path,'/',file]))\n",
    "\n",
    "    oligos.insert(9, 'well_label', plate.wells()[oligos.shape[0]-1]) )\n",
    "\n",
    "    for index, row in oligos.iterrrows():\n",
    "        print('Find oligo named:',row['Name'])\n",
    "        oligos.insert(10, 'pimer_mass_ng', input('Input Masses in Order:\\n'))\n",
    "        print('Place oligo in well:',row['well_label'])\n",
    "        \n",
    "    oligos.insert(11, 'volume_uL', oligos['primer_mass']*10)\n",
    "\n",
    "    oligo_master = feather.write_feather(oligos,joinStrings([j5_path,'/','oligos_master']))\n",
    "    for index, row in oligos.iterrows():\n",
    "        left_pipette.pick_up_tip()\n",
    "        # where to pick up from\n",
    "        # Aspirate, dispense and blow out for primer\n",
    "        left_pipette.aspirate(row['volume_uL'], mgwater, rate=2.0)\n",
    "        left_pipette.dispense(row['volume_uL'], plate[row['well_label']].center(), rate=2.0)\n",
    "        left_pipette.blow_out(plate[row['well_label']],plate[row['well_label']].top())\n",
    "        left_pipette.drop_tip()\n"
   ]
  }
 ],
 "metadata": {
  "kernelspec": {
   "display_name": "Python 3",
   "language": "python",
   "name": "python3"
  },
  "language_info": {
   "codemirror_mode": {
    "name": "ipython",
    "version": 3
   },
   "file_extension": ".py",
   "mimetype": "text/x-python",
   "name": "python",
   "nbconvert_exporter": "python",
   "pygments_lexer": "ipython3",
   "version": "3.8.5"
  }
 },
 "nbformat": 4,
 "nbformat_minor": 4
}
