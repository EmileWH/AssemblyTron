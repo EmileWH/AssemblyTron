{
 "cells": [
  {
   "cell_type": "code",
   "execution_count": 42,
   "metadata": {},
   "outputs": [],
   "source": [
    "stkprm=100 \n",
    "stkvol=1\n",
    "ngdesired=100\n",
    "\n",
    "from opentrons import protocol_api\n",
    "\n",
    "import pandas\n",
    "import numpy as np\n",
    "import os"
   ]
  },
  {
   "cell_type": "code",
   "execution_count": 43,
   "metadata": {},
   "outputs": [
    {
     "data": {
      "text/html": [
       "<div>\n",
       "<style scoped>\n",
       "    .dataframe tbody tr th:only-of-type {\n",
       "        vertical-align: middle;\n",
       "    }\n",
       "\n",
       "    .dataframe tbody tr th {\n",
       "        vertical-align: top;\n",
       "    }\n",
       "\n",
       "    .dataframe thead th {\n",
       "        text-align: right;\n",
       "    }\n",
       "</style>\n",
       "<table border=\"1\" class=\"dataframe\">\n",
       "  <thead>\n",
       "    <tr style=\"text-align: right;\">\n",
       "      <th></th>\n",
       "      <th>Frag</th>\n",
       "      <th>Conc</th>\n",
       "      <th>basepairs</th>\n",
       "    </tr>\n",
       "  </thead>\n",
       "  <tbody>\n",
       "    <tr>\n",
       "      <th>0</th>\n",
       "      <td>0</td>\n",
       "      <td>121.3</td>\n",
       "      <td>1104</td>\n",
       "    </tr>\n",
       "    <tr>\n",
       "      <th>1</th>\n",
       "      <td>1</td>\n",
       "      <td>150.9</td>\n",
       "      <td>2072</td>\n",
       "    </tr>\n",
       "    <tr>\n",
       "      <th>2</th>\n",
       "      <td>2</td>\n",
       "      <td>111.2</td>\n",
       "      <td>6447</td>\n",
       "    </tr>\n",
       "  </tbody>\n",
       "</table>\n",
       "</div>"
      ],
      "text/plain": [
       "   Frag   Conc  basepairs\n",
       "0     0  121.3       1104\n",
       "1     1  150.9       2072\n",
       "2     2  111.2       6447"
      ]
     },
     "execution_count": 43,
     "metadata": {},
     "output_type": "execute_result"
    }
   ],
   "source": [
    "os.chdir(\"C:/Users/camdaman/Documents/Github/opentrons/Golden_Gate/Part2_Assembly_Cam\")\n",
    "os.getcwd()\n",
    "fragments = pandas.read_csv('fragments.csv')\n",
    "fragments"
   ]
  },
  {
   "cell_type": "code",
   "execution_count": 44,
   "metadata": {},
   "outputs": [
    {
     "data": {
      "text/plain": [
       "6447"
      ]
     },
     "execution_count": 44,
     "metadata": {},
     "output_type": "execute_result"
    }
   ],
   "source": [
    "backbone_length=fragments[\"basepairs\"].max()\n",
    "backbone_length"
   ]
  },
  {
   "cell_type": "code",
   "execution_count": 46,
   "metadata": {},
   "outputs": [
    {
     "data": {
      "text/html": [
       "<div>\n",
       "<style scoped>\n",
       "    .dataframe tbody tr th:only-of-type {\n",
       "        vertical-align: middle;\n",
       "    }\n",
       "\n",
       "    .dataframe tbody tr th {\n",
       "        vertical-align: top;\n",
       "    }\n",
       "\n",
       "    .dataframe thead th {\n",
       "        text-align: right;\n",
       "    }\n",
       "</style>\n",
       "<table border=\"1\" class=\"dataframe\">\n",
       "  <thead>\n",
       "    <tr style=\"text-align: right;\">\n",
       "      <th></th>\n",
       "      <th>Frag</th>\n",
       "      <th>Conc</th>\n",
       "      <th>basepairs</th>\n",
       "      <th>equimolar ratio</th>\n",
       "      <th>inverse of conc</th>\n",
       "      <th>initial required amount</th>\n",
       "      <th>parts H20 to one part fragment</th>\n",
       "    </tr>\n",
       "  </thead>\n",
       "  <tbody>\n",
       "    <tr>\n",
       "      <th>0</th>\n",
       "      <td>0</td>\n",
       "      <td>121.3</td>\n",
       "      <td>1104</td>\n",
       "      <td>0.171242</td>\n",
       "      <td>0.008244</td>\n",
       "      <td>0.141173</td>\n",
       "      <td>7.083524</td>\n",
       "    </tr>\n",
       "    <tr>\n",
       "      <th>1</th>\n",
       "      <td>1</td>\n",
       "      <td>150.9</td>\n",
       "      <td>2072</td>\n",
       "      <td>0.321390</td>\n",
       "      <td>0.006627</td>\n",
       "      <td>0.212982</td>\n",
       "      <td>4.695233</td>\n",
       "    </tr>\n",
       "    <tr>\n",
       "      <th>2</th>\n",
       "      <td>2</td>\n",
       "      <td>111.2</td>\n",
       "      <td>6447</td>\n",
       "      <td>1.000000</td>\n",
       "      <td>0.008993</td>\n",
       "      <td>0.899281</td>\n",
       "      <td>1.112000</td>\n",
       "    </tr>\n",
       "  </tbody>\n",
       "</table>\n",
       "</div>"
      ],
      "text/plain": [
       "   Frag   Conc  basepairs  equimolar ratio  inverse of conc  \\\n",
       "0     0  121.3       1104         0.171242         0.008244   \n",
       "1     1  150.9       2072         0.321390         0.006627   \n",
       "2     2  111.2       6447         1.000000         0.008993   \n",
       "\n",
       "   initial required amount  parts H20 to one part fragment  \n",
       "0                 0.141173                        7.083524  \n",
       "1                 0.212982                        4.695233  \n",
       "2                 0.899281                        1.112000  "
      ]
     },
     "execution_count": 46,
     "metadata": {},
     "output_type": "execute_result"
    }
   ],
   "source": [
    "for i, row in fragments.iterrows():\n",
    "    fragments.loc[i,\"equimolar ratio\"]=fragments.loc[i,\"basepairs\"]/backbone_length\n",
    "    fragments.loc[i,\"inverse of conc\"]=1/fragments.loc[i,\"Conc\"]\n",
    "    fragments.loc[i,\"initial required amount\"]=ngdesired*fragments.loc[i,\"equimolar ratio\"]*fragments.loc[i,\"inverse of conc\"]\n",
    "    fragments.loc[i,\"parts H20 to one part fragment\"]=(1/fragments.loc[i,\"initial required amount\"])\n",
    "    \n",
    "   \n",
    "fragments #work on this   "
   ]
  },
  {
   "cell_type": "code",
   "execution_count": 19,
   "metadata": {},
   "outputs": [
    {
     "data": {
      "text/plain": [
       "3"
      ]
     },
     "execution_count": 19,
     "metadata": {},
     "output_type": "execute_result"
    }
   ],
   "source": [
    "index = fragments.index\n",
    "number_of_rows = len(index)\n",
    "number_of_rows"
   ]
  },
  {
   "cell_type": "code",
   "execution_count": 39,
   "metadata": {},
   "outputs": [],
   "source": [
    "def run(protocol: protocol_api.ProtocolContext):\n",
    "\n",
    "    right = protocol.load_instrument(\n",
    "        'p10_single', 'right', tip_rack=tiprack1)\n",
    "    left = protocol.load_instrument(\n",
    "        'p300_single', 'right', tip_rack=tiprack2)\n",
    "    tiprack1 = protocol.load_labware('opentrons_96_tiprack_10ul', '5')\n",
    "    tiprack2 = protocol.load_labware('opentrons_96_tiprack_200ul', '6')\n",
    "    plate = protocol.load_labware('corning_24_wellplate_3.4ml_flat', '1')\n",
    "    tc_mod = protocol.load_module('Thermocycler Module')\n",
    "    platetc = tc_mod.load_labware('nest_96_wellplate_100ul_pcr_full_skirt')\n",
    "    GGmix= platetc['A1']\n",
    "    T4 = plate['A1']\n",
    "    BSA = plate ['A2']\n",
    "    BSAI = plate ['A3']\n",
    "    Lig = plate ['A4']\n",
    "    H20 = plate ['A5']\n",
    "    T4BSAmix = plate ['C6']\n",
    "    frag1 = plate ['B1']\n",
    "    frag2 = plate['B2']\n",
    "    if number_of_rows > 2:\n",
    "        frag3 = plate['B3']\n",
    "    if number_of_rows > 3:\n",
    "        frag4 = plate['B4']\n",
    "    if number_of_rows > 4:\n",
    "        frag5 = plate['B5']\n",
    "    if number_of_rows > 5:\n",
    "        frag6 = plate['B6']\n",
    "    frag1dil= plate['D1']\n",
    "    frag2dil= plate['D2']\n",
    "    if number_of_rows > 2:\n",
    "        frag3dil = plate['D3']\n",
    "    if number_of_rows > 3:\n",
    "        frag4dil = plate['D4']\n",
    "    if number_of_rows > 4:\n",
    "        frag5dil = plate['D5']\n",
    "    if number_of_rows > 5:\n",
    "        frag6dil = plate['D6']\n",
    "    #dilution\n",
    "    \n",
    "    #protocol\n",
    "    tc_mod.open_lid()\n",
    "    tc_mod.set_block_temperature(4, block_max_volume=15)\n",
    "    \n",
    "    right.pick_up_tip()\n",
    "    right.aspirate(1,T4)\n",
    "    right.dispense(1,T4BSAmix)\n",
    "    right.blow_out()\n",
    "    right.drop_tip()\n",
    "    \n",
    "    right.pick_up_tip()\n",
    "    right.aspirate(10,BSA)\n",
    "    right.dispense(10,T4BSAmix)\n",
    "    right.mix(5,10,T4BSAmix)\n",
    "    right.blow_out()\n",
    "    right.drop_tip()\n",
    "    \n",
    "    right.pick_up_tip()\n",
    "    right.aspirate(1,T4BSAmix)\n",
    "    right.dispense(1,GGmix)\n",
    "    right.blow_out()\n",
    "    right.drop_tip\n",
    "    \n",
    "    right.pick_up_tip()\n",
    "    right.aspirate(1,BSAI)\n",
    "    right.dispense(1,GGmix)\n",
    "    right.blow_out()\n",
    "    right.drop_tip\n",
    "    \n",
    "    right.pick_up_tip()\n",
    "    right.aspirate(1,Lig)\n",
    "    right.dispense(1,GGmix)\n",
    "    right.blow_out()\n",
    "    right.drop_tip\n",
    "    \n",
    "    #pause to close cap right?\n",
    "    \n",
    "    tc_mod.close_lid()\n",
    "    profile = [\n",
    "        {'temperature': 37, 'hold_time_seconds': 180},\n",
    "        {'temperature': 16, 'hold_time_seconds': 240}]\n",
    "    tc_mod.execute_profile(steps=profile, repetitions=25, block_max_volume=15)\n",
    "    tc_mod.set_block_temperature(4, block_max_volume=15)\n",
    "\n"
   ]
  },
  {
   "cell_type": "markdown",
   "metadata": {},
   "source": [
    "is the plate name correct? Can we up ng desired to 200 ng?"
   ]
  },
  {
   "cell_type": "code",
   "execution_count": 35,
   "metadata": {},
   "outputs": [
    {
     "ename": "NameError",
     "evalue": "name 'right' is not defined",
     "output_type": "error",
     "traceback": [
      "\u001b[1;31m---------------------------------------------------------------------------\u001b[0m",
      "\u001b[1;31mNameError\u001b[0m                                 Traceback (most recent call last)",
      "\u001b[1;32m<ipython-input-35-27bf8e61fa0b>\u001b[0m in \u001b[0;36m<module>\u001b[1;34m\u001b[0m\n\u001b[0;32m      1\u001b[0m \u001b[1;31m#dilution\u001b[0m\u001b[1;33m\u001b[0m\u001b[1;33m\u001b[0m\u001b[1;33m\u001b[0m\u001b[0m\n\u001b[0;32m      2\u001b[0m \u001b[1;31m#Protocol\u001b[0m\u001b[1;33m\u001b[0m\u001b[1;33m\u001b[0m\u001b[1;33m\u001b[0m\u001b[0m\n\u001b[1;32m----> 3\u001b[1;33m \u001b[0mright\u001b[0m\u001b[1;33m.\u001b[0m\u001b[0mpick_up_tip\u001b[0m\u001b[1;33m(\u001b[0m\u001b[1;33m)\u001b[0m\u001b[1;33m\u001b[0m\u001b[1;33m\u001b[0m\u001b[0m\n\u001b[0m\u001b[0;32m      4\u001b[0m \u001b[0mright\u001b[0m\u001b[1;33m.\u001b[0m\u001b[0maspirate\u001b[0m\u001b[1;33m(\u001b[0m\u001b[1;36m1.65\u001b[0m\u001b[1;33m,\u001b[0m\u001b[0mT4\u001b[0m\u001b[1;33m)\u001b[0m\u001b[1;33m\u001b[0m\u001b[1;33m\u001b[0m\u001b[0m\n\u001b[0;32m      5\u001b[0m \u001b[1;33m\u001b[0m\u001b[0m\n",
      "\u001b[1;31mNameError\u001b[0m: name 'right' is not defined"
     ]
    }
   ],
   "source": [
    "\n",
    "\n",
    "\n",
    "\n",
    "\n"
   ]
  },
  {
   "cell_type": "code",
   "execution_count": null,
   "metadata": {},
   "outputs": [],
   "source": []
  }
 ],
 "metadata": {
  "kernelspec": {
   "display_name": "Python 3",
   "language": "python",
   "name": "python3"
  },
  "language_info": {
   "codemirror_mode": {
    "name": "ipython",
    "version": 3
   },
   "file_extension": ".py",
   "mimetype": "text/x-python",
   "name": "python",
   "nbconvert_exporter": "python",
   "pygments_lexer": "ipython3",
   "version": "3.8.5"
  }
 },
 "nbformat": 4,
 "nbformat_minor": 5
}
