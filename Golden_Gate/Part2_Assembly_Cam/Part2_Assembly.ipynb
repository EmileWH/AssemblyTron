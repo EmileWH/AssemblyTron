{
 "cells": [
  {
   "cell_type": "code",
   "execution_count": 16,
   "metadata": {},
   "outputs": [],
   "source": [
    "stkprm=100 \n",
    "stkvol=1\n",
    "ngdesired=100\n",
    "\n",
    "\n",
    "import pandas\n",
    "import numpy as np\n",
    "import os"
   ]
  },
  {
   "cell_type": "code",
   "execution_count": 3,
   "metadata": {},
   "outputs": [
    {
     "data": {
      "text/html": [
       "<div>\n",
       "<style scoped>\n",
       "    .dataframe tbody tr th:only-of-type {\n",
       "        vertical-align: middle;\n",
       "    }\n",
       "\n",
       "    .dataframe tbody tr th {\n",
       "        vertical-align: top;\n",
       "    }\n",
       "\n",
       "    .dataframe thead th {\n",
       "        text-align: right;\n",
       "    }\n",
       "</style>\n",
       "<table border=\"1\" class=\"dataframe\">\n",
       "  <thead>\n",
       "    <tr style=\"text-align: right;\">\n",
       "      <th></th>\n",
       "      <th>Frag</th>\n",
       "      <th>Conc</th>\n",
       "      <th>basepairs</th>\n",
       "    </tr>\n",
       "  </thead>\n",
       "  <tbody>\n",
       "    <tr>\n",
       "      <th>0</th>\n",
       "      <td>0</td>\n",
       "      <td>121.3</td>\n",
       "      <td>1104</td>\n",
       "    </tr>\n",
       "    <tr>\n",
       "      <th>1</th>\n",
       "      <td>1</td>\n",
       "      <td>150.9</td>\n",
       "      <td>2072</td>\n",
       "    </tr>\n",
       "    <tr>\n",
       "      <th>2</th>\n",
       "      <td>2</td>\n",
       "      <td>111.2</td>\n",
       "      <td>6447</td>\n",
       "    </tr>\n",
       "  </tbody>\n",
       "</table>\n",
       "</div>"
      ],
      "text/plain": [
       "   Frag   Conc  basepairs\n",
       "0     0  121.3       1104\n",
       "1     1  150.9       2072\n",
       "2     2  111.2       6447"
      ]
     },
     "execution_count": 3,
     "metadata": {},
     "output_type": "execute_result"
    }
   ],
   "source": [
    "os.chdir(\"C:/Users/camdaman/Documents/Github/opentrons/Golden_Gate/Part2_Assembly_Cam\")\n",
    "os.getcwd()\n",
    "fragments = pandas.read_csv('fragments.csv')\n",
    "fragments"
   ]
  },
  {
   "cell_type": "code",
   "execution_count": 12,
   "metadata": {},
   "outputs": [
    {
     "data": {
      "text/plain": [
       "6447"
      ]
     },
     "execution_count": 12,
     "metadata": {},
     "output_type": "execute_result"
    }
   ],
   "source": [
    "backbone_length=fragments[\"basepairs\"].max()\n",
    "backbone_length"
   ]
  },
  {
   "cell_type": "code",
   "execution_count": 17,
   "metadata": {},
   "outputs": [
    {
     "data": {
      "text/html": [
       "<div>\n",
       "<style scoped>\n",
       "    .dataframe tbody tr th:only-of-type {\n",
       "        vertical-align: middle;\n",
       "    }\n",
       "\n",
       "    .dataframe tbody tr th {\n",
       "        vertical-align: top;\n",
       "    }\n",
       "\n",
       "    .dataframe thead th {\n",
       "        text-align: right;\n",
       "    }\n",
       "</style>\n",
       "<table border=\"1\" class=\"dataframe\">\n",
       "  <thead>\n",
       "    <tr style=\"text-align: right;\">\n",
       "      <th></th>\n",
       "      <th>Frag</th>\n",
       "      <th>Conc</th>\n",
       "      <th>basepairs</th>\n",
       "      <th>stock primer concentration</th>\n",
       "      <th>volume of stock primer to add</th>\n",
       "      <th>equimolar ratio</th>\n",
       "      <th>inverse of conc</th>\n",
       "      <th>initial required amount</th>\n",
       "    </tr>\n",
       "  </thead>\n",
       "  <tbody>\n",
       "    <tr>\n",
       "      <th>0</th>\n",
       "      <td>0</td>\n",
       "      <td>121.3</td>\n",
       "      <td>1104</td>\n",
       "      <td>100.0</td>\n",
       "      <td>1.0</td>\n",
       "      <td>0.171242</td>\n",
       "      <td>0.008244</td>\n",
       "      <td>0.141173</td>\n",
       "    </tr>\n",
       "    <tr>\n",
       "      <th>1</th>\n",
       "      <td>1</td>\n",
       "      <td>150.9</td>\n",
       "      <td>2072</td>\n",
       "      <td>100.0</td>\n",
       "      <td>1.0</td>\n",
       "      <td>0.321390</td>\n",
       "      <td>0.006627</td>\n",
       "      <td>0.212982</td>\n",
       "    </tr>\n",
       "    <tr>\n",
       "      <th>2</th>\n",
       "      <td>2</td>\n",
       "      <td>111.2</td>\n",
       "      <td>6447</td>\n",
       "      <td>100.0</td>\n",
       "      <td>1.0</td>\n",
       "      <td>1.000000</td>\n",
       "      <td>0.008993</td>\n",
       "      <td>0.899281</td>\n",
       "    </tr>\n",
       "  </tbody>\n",
       "</table>\n",
       "</div>"
      ],
      "text/plain": [
       "   Frag   Conc  basepairs  stock primer concentration  \\\n",
       "0     0  121.3       1104                       100.0   \n",
       "1     1  150.9       2072                       100.0   \n",
       "2     2  111.2       6447                       100.0   \n",
       "\n",
       "   volume of stock primer to add  equimolar ratio  inverse of conc  \\\n",
       "0                            1.0         0.171242         0.008244   \n",
       "1                            1.0         0.321390         0.006627   \n",
       "2                            1.0         1.000000         0.008993   \n",
       "\n",
       "   initial required amount  \n",
       "0                 0.141173  \n",
       "1                 0.212982  \n",
       "2                 0.899281  "
      ]
     },
     "execution_count": 17,
     "metadata": {},
     "output_type": "execute_result"
    }
   ],
   "source": [
    "for i, row in fragments.iterrows():\n",
    "    fragments.loc[i,\"equimolar ratio\"]=fragments.loc[i,\"basepairs\"]/backbone_length\n",
    "    fragments.loc[i,\"inverse of conc\"]=1/fragments.loc[i,\"Conc\"]\n",
    "    fragments.loc[i,\"initial required amount\"]=ngdesired*fragments.loc[i,\"equimolar ratio\"]*fragments.loc[i,\"inverse of conc\"]\n",
    "fragments    "
   ]
  },
  {
   "cell_type": "markdown",
   "metadata": {},
   "source": [
    "Need to know well locations of backbone & each fragment, T4 buffer, BsaI, T4 ligase, & molecular water\n",
    "Have I loaded in the opentrons library already?\n",
    "Should I include a dilution if the inital required amounts are less than 1 ul?"
   ]
  }
 ],
 "metadata": {
  "kernelspec": {
   "display_name": "Python 3",
   "language": "python",
   "name": "python3"
  },
  "language_info": {
   "codemirror_mode": {
    "name": "ipython",
    "version": 3
   },
   "file_extension": ".py",
   "mimetype": "text/x-python",
   "name": "python",
   "nbconvert_exporter": "python",
   "pygments_lexer": "ipython3",
   "version": "3.8.5"
  }
 },
 "nbformat": 4,
 "nbformat_minor": 5
}
