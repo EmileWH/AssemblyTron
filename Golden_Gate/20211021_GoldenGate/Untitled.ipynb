{
 "cells": [
  {
   "cell_type": "code",
   "execution_count": 1,
   "id": "4a89bc0f",
   "metadata": {},
   "outputs": [
    {
     "data": {
      "text/html": [
       "<div>\n",
       "<style scoped>\n",
       "    .dataframe tbody tr th:only-of-type {\n",
       "        vertical-align: middle;\n",
       "    }\n",
       "\n",
       "    .dataframe tbody tr th {\n",
       "        vertical-align: top;\n",
       "    }\n",
       "\n",
       "    .dataframe thead th {\n",
       "        text-align: right;\n",
       "    }\n",
       "</style>\n",
       "<table border=\"1\" class=\"dataframe\">\n",
       "  <thead>\n",
       "    <tr style=\"text-align: right;\">\n",
       "      <th></th>\n",
       "      <th>downloads</th>\n",
       "      <th>opentrons_repo</th>\n",
       "      <th>j5_files_googledrive</th>\n",
       "    </tr>\n",
       "  </thead>\n",
       "  <tbody>\n",
       "    <tr>\n",
       "      <th>0</th>\n",
       "      <td>C:/Users/jonbr/Downloads</td>\n",
       "      <td>/data/user_storage</td>\n",
       "      <td>G:/Shared drives/PlantSynBioLab/j5_files</td>\n",
       "    </tr>\n",
       "  </tbody>\n",
       "</table>\n",
       "</div>"
      ],
      "text/plain": [
       "                  downloads      opentrons_repo  \\\n",
       "0  C:/Users/jonbr/Downloads  /data/user_storage   \n",
       "\n",
       "                       j5_files_googledrive  \n",
       "0  G:/Shared drives/PlantSynBioLab/j5_files  "
      ]
     },
     "execution_count": 1,
     "metadata": {},
     "output_type": "execute_result"
    }
   ],
   "source": [
    "#first import information from the j5 spreadsheet in order to perform appropriate steps\n",
    "#import feather\n",
    "#import pyarrow.feather as ft\n",
    "import pandas\n",
    "import numpy as np\n",
    "import os\n",
    "from datetime import date\n",
    " \n",
    "#for this to work you need to run the python script on the same day that you make the new directory\n",
    "#today = date.today()\n",
    "#starter_date = str(today.strftime('%Y%m%d'))\n",
    "#if folder was created on diff date:\n",
    "#starter_date = 'typedatehere'\n",
    "pwd = str(os.getcwd())\n",
    "\n",
    "def walk_up_folder(path, depth=1):\n",
    "    _cur_depth = 1        \n",
    "    while _cur_depth < depth:\n",
    "        path = os.path.dirname(path)\n",
    "        _cur_depth += 1\n",
    "    return path   \n"
   ]
  },
  {
   "cell_type": "code",
   "execution_count": 2,
   "id": "a3ece194",
   "metadata": {},
   "outputs": [
    {
     "data": {
      "text/plain": [
       "'C:\\\\Users\\\\Public\\\\Documents\\\\opentrons\\\\Golden_Gate\\\\20211021_GoldenGate'"
      ]
     },
     "execution_count": 2,
     "metadata": {},
     "output_type": "execute_result"
    }
   ],
   "source": [
    "os.getcwd()"
   ]
  },
  {
   "cell_type": "code",
   "execution_count": 3,
   "id": "66d94b4e",
   "metadata": {},
   "outputs": [
    {
     "data": {
      "text/html": [
       "<div>\n",
       "<style scoped>\n",
       "    .dataframe tbody tr th:only-of-type {\n",
       "        vertical-align: middle;\n",
       "    }\n",
       "\n",
       "    .dataframe tbody tr th {\n",
       "        vertical-align: top;\n",
       "    }\n",
       "\n",
       "    .dataframe thead th {\n",
       "        text-align: right;\n",
       "    }\n",
       "</style>\n",
       "<table border=\"1\" class=\"dataframe\">\n",
       "  <thead>\n",
       "    <tr style=\"text-align: right;\">\n",
       "      <th></th>\n",
       "      <th>downloads</th>\n",
       "      <th>opentrons_repo</th>\n",
       "      <th>j5_files_googledrive</th>\n",
       "    </tr>\n",
       "  </thead>\n",
       "  <tbody>\n",
       "    <tr>\n",
       "      <th>0</th>\n",
       "      <td>C:/Users/jonbr/Downloads</td>\n",
       "      <td>/data/user_storage</td>\n",
       "      <td>G:/Shared drives/PlantSynBioLab/j5_files</td>\n",
       "    </tr>\n",
       "  </tbody>\n",
       "</table>\n",
       "</div>"
      ],
      "text/plain": [
       "                  downloads      opentrons_repo  \\\n",
       "0  C:/Users/jonbr/Downloads  /data/user_storage   \n",
       "\n",
       "                       j5_files_googledrive  \n",
       "0  G:/Shared drives/PlantSynBioLab/j5_files  "
      ]
     },
     "execution_count": 3,
     "metadata": {},
     "output_type": "execute_result"
    }
   ],
   "source": [
    "\n",
    "paths = pandas.read_csv(walk_up_folder(os.getcwd(), 3)+'/robotpaths.csv')\n",
    "paths\n"
   ]
  },
  {
   "cell_type": "code",
   "execution_count": 2,
   "id": "9dbcb421",
   "metadata": {},
   "outputs": [
    {
     "data": {
      "text/plain": [
       "'C:\\\\Users\\\\Public\\\\Documents\\\\opentrons\\\\Golden_Gate\\\\20211021_GoldenGate'"
      ]
     },
     "execution_count": 2,
     "metadata": {},
     "output_type": "execute_result"
    }
   ],
   "source": [
    "#variables:\n",
    "#primer dilutions:\n",
    "#stkprm = 100 #concentration of the stock primer you are adding\n",
    "#stkvol = 1 #the volume of stock primer you are adding\n",
    "#dilprm = 2.5 #this is the concentration in uM that you want your working dilution to be\n",
    "\n",
    "#pcr reaction\n",
    "# need to get this from the df##Numprimers = 4 #this is how many primers go in each pcr reaction.\n",
    "#primerconcentration = 0.1 #this is the concentration you want each primer to be in the pcr reaction\n",
    "#pcrvol = 25 #this is the total volume of your pcr reaction \n",
    "#templatengs = .5 #this is the concentration of template you want in your pcr rxn in ng/uL\n",
    "\n",
    "#template dilutions tells you what the temps need to be diluted to initially so that you can just add 1 uL of template to the pcr:\n",
    "#need to fill in stock template values further down the script\n",
    "#diltemp = (templatengs)*(pcrvol)/1\n",
    "\n",
    "#total_volume = 25\n",
    "#Q5 = total_volume - (0.5*(total_volume)) #How much Q5 to add\n",
    "#DPNI = 1 #How much DPNI to add\n",
    "#DPwater = 19\n",
    "#cutsmart = 5\n",
    "\n",
    "#goldengate param inputs\n",
    "#ngdesired=100\n",
    "\n",
    "\n",
    "\n",
    "#first import information from the j5 spreadsheet in order to perform appropriate steps\n",
    "#import feather\n",
    "#import pyarrow.feather as ft\n",
    "import pandas\n",
    "import numpy as np\n",
    "import os\n",
    "from datetime import date\n",
    " \n",
    "#for this to work you need to run the python script on the same day that you make the new directory\n",
    "#today = date.today()\n",
    "#starter_date = str(today.strftime('%Y%m%d'))\n",
    "#if folder was created on diff date:\n",
    "#starter_date = 'typedatehere'\n",
    "pwd = str(os.getcwd())\n",
    "\n",
    "def walk_up_folder(path, depth=1):\n",
    "    _cur_depth = 1        \n",
    "    while _cur_depth < depth:\n",
    "        path = os.path.dirname(path)\n",
    "        _cur_depth += 1\n",
    "    return path   \n",
    "#walk_up_folder(os.getcwd(), 2)+\n",
    "\n",
    "paths = pandas.read_csv('C:/Users/Public/Documents/opentrons/robotpaths.csv',engine = 'python', encoding='utf-8-sig')\n",
    "paths\n",
    "\n",
    "os.getcwd()\n",
    "\n"
   ]
  },
  {
   "cell_type": "code",
   "execution_count": 4,
   "id": "db722bd9",
   "metadata": {},
   "outputs": [
    {
     "data": {
      "text/plain": [
       "'20211021'"
      ]
     },
     "execution_count": 4,
     "metadata": {},
     "output_type": "execute_result"
    }
   ],
   "source": [
    "#Input_values = pandas.read_csv('Input.csv') \n",
    "Input_values = pandas.read_csv('Input.csv',engine = 'python', encoding='utf-8-sig') \n",
    "Input_values\n",
    "Date = str(int(Input_values.loc[0].at['Date']))\n",
    "Date\n",
    "\n"
   ]
  },
  {
   "cell_type": "code",
   "execution_count": null,
   "id": "0b901a99",
   "metadata": {},
   "outputs": [],
   "source": [
    "Q5 = (0.5*Input_values.loc[0].at['pcrvol'])\n",
    "diltemp = (Input_values.loc[0].at['templatengs'])*(Input_values.loc[0].at['pcrvol'])/1"
   ]
  }
 ],
 "metadata": {
  "kernelspec": {
   "display_name": "Python 3",
   "language": "python",
   "name": "python3"
  },
  "language_info": {
   "codemirror_mode": {
    "name": "ipython",
    "version": 3
   },
   "file_extension": ".py",
   "mimetype": "text/x-python",
   "name": "python",
   "nbconvert_exporter": "python",
   "pygments_lexer": "ipython3",
   "version": "3.8.8"
  }
 },
 "nbformat": 4,
 "nbformat_minor": 5
}
