{
 "cells": [
  {
   "cell_type": "code",
   "execution_count": 39,
   "metadata": {},
   "outputs": [
    {
     "name": "stdout",
     "output_type": "stream",
     "text": [
      "Requirement already up-to-date: opentrons in c:\\users\\mkell\\anaconda3\\lib\\site-packages (4.1.1)\n",
      "Requirement already satisfied, skipping upgrade: aionotify==0.2.0 in c:\\users\\mkell\\anaconda3\\lib\\site-packages (from opentrons) (0.2.0)\n",
      "Requirement already satisfied, skipping upgrade: jsonschema<4,>=3.0.2 in c:\\users\\mkell\\anaconda3\\lib\\site-packages (from opentrons) (3.2.0)\n",
      "Requirement already satisfied, skipping upgrade: numpy>=1.15.1 in c:\\users\\mkell\\anaconda3\\lib\\site-packages (from opentrons) (1.19.2)\n",
      "Requirement already satisfied, skipping upgrade: typing-extensions>=3.7.4.3 in c:\\users\\mkell\\anaconda3\\lib\\site-packages (from opentrons) (3.7.4.3)\n",
      "Requirement already satisfied, skipping upgrade: pyserial==3.5 in c:\\users\\mkell\\anaconda3\\lib\\site-packages (from opentrons) (3.5)\n",
      "Requirement already satisfied, skipping upgrade: pydantic==1.4 in c:\\users\\mkell\\anaconda3\\lib\\site-packages (from opentrons) (1.4)\n",
      "Requirement already satisfied, skipping upgrade: opentrons-shared-data==4.1.1 in c:\\users\\mkell\\anaconda3\\lib\\site-packages (from opentrons) (4.1.1)\n",
      "Requirement already satisfied, skipping upgrade: pyrsistent>=0.14.0 in c:\\users\\mkell\\anaconda3\\lib\\site-packages (from jsonschema<4,>=3.0.2->opentrons) (0.17.3)\n",
      "Requirement already satisfied, skipping upgrade: attrs>=17.4.0 in c:\\users\\mkell\\anaconda3\\lib\\site-packages (from jsonschema<4,>=3.0.2->opentrons) (20.3.0)\n",
      "Requirement already satisfied, skipping upgrade: setuptools in c:\\users\\mkell\\anaconda3\\lib\\site-packages (from jsonschema<4,>=3.0.2->opentrons) (50.3.1.post20201107)\n",
      "Requirement already satisfied, skipping upgrade: six>=1.11.0 in c:\\users\\mkell\\anaconda3\\lib\\site-packages (from jsonschema<4,>=3.0.2->opentrons) (1.15.0)\n",
      "Requirement already satisfied: pandas in c:\\users\\mkell\\anaconda3\\lib\\site-packages (1.1.3)\n",
      "Requirement already satisfied: pytz>=2017.2 in c:\\users\\mkell\\anaconda3\\lib\\site-packages (from pandas) (2020.1)\n",
      "Requirement already satisfied: numpy>=1.15.4 in c:\\users\\mkell\\anaconda3\\lib\\site-packages (from pandas) (1.19.2)\n",
      "Requirement already satisfied: python-dateutil>=2.7.3 in c:\\users\\mkell\\anaconda3\\lib\\site-packages (from pandas) (2.8.1)\n",
      "Requirement already satisfied: six>=1.5 in c:\\users\\mkell\\anaconda3\\lib\\site-packages (from python-dateutil>=2.7.3->pandas) (1.15.0)\n",
      "Requirement already satisfied: numpy in c:\\users\\mkell\\anaconda3\\lib\\site-packages (1.19.2)\n"
     ]
    }
   ],
   "source": [
    "!pip install --upgrade opentrons\n",
    "!pip install pandas\n",
    "!pip install numpy"
   ]
  },
  {
   "cell_type": "code",
   "execution_count": null,
   "metadata": {},
   "outputs": [],
   "source": []
  },
  {
   "cell_type": "code",
   "execution_count": 2,
   "metadata": {},
   "outputs": [],
   "source": [
    "from opentrons import protocol_api\n",
    "import tkinter as tk\n",
    "import csv\n",
    "import pandas as pd\n",
    "import numpy as np\n",
    "import os"
   ]
  },
  {
   "cell_type": "code",
   "execution_count": 3,
   "metadata": {},
   "outputs": [
    {
     "name": "stdout",
     "output_type": "stream",
     "text": [
      "{'protocolName': 'RED', 'author': 'Mason Kellinger masonkellinger@vt.edu', 'Steven Kenah ksteven18@vt.edudescription': 'Restriction Enzyme Digestion', 'apiLevel': '2.9'}\n"
     ]
    },
    {
     "data": {
      "text/plain": [
       "'C:\\\\Users\\\\mkell\\\\Documents\\\\GitHub\\\\opentrons\\\\Restriction'"
      ]
     },
     "execution_count": 3,
     "metadata": {},
     "output_type": "execute_result"
    }
   ],
   "source": [
    "## Meta Data\n",
    "\n",
    "metadata = {'protocolName': 'RED',\n",
    "'author':'Mason Kellinger masonkellinger@vt.edu', 'Steven Kenah ksteven18@vt.edu'\n",
    " 'description': 'Restriction Enzyme Digestion',\n",
    " 'apiLevel': '2.9'\n",
    "}\n",
    "print(metadata)\n",
    "\n",
    "os.getcwd()"
   ]
  },
  {
   "cell_type": "code",
   "execution_count": 4,
   "metadata": {},
   "outputs": [
    {
     "data": {
      "text/html": [
       "<div>\n",
       "<style scoped>\n",
       "    .dataframe tbody tr th:only-of-type {\n",
       "        vertical-align: middle;\n",
       "    }\n",
       "\n",
       "    .dataframe tbody tr th {\n",
       "        vertical-align: top;\n",
       "    }\n",
       "\n",
       "    .dataframe thead th {\n",
       "        text-align: right;\n",
       "    }\n",
       "</style>\n",
       "<table border=\"1\" class=\"dataframe\">\n",
       "  <thead>\n",
       "    <tr style=\"text-align: right;\">\n",
       "      <th></th>\n",
       "      <th>Enzyme Name</th>\n",
       "      <th>Incubation Temperature in Celsius</th>\n",
       "      <th>Incubation Time in minutes</th>\n",
       "      <th>Inactivation Temp in Celsius</th>\n",
       "      <th>Amount of DNA in µg</th>\n",
       "      <th>Concentration of DNA solution in µg/µL</th>\n",
       "    </tr>\n",
       "  </thead>\n",
       "  <tbody>\n",
       "    <tr>\n",
       "      <th>0</th>\n",
       "      <td>EcoRI</td>\n",
       "      <td>37</td>\n",
       "      <td>10</td>\n",
       "      <td>65</td>\n",
       "      <td>1</td>\n",
       "      <td>1</td>\n",
       "    </tr>\n",
       "  </tbody>\n",
       "</table>\n",
       "</div>"
      ],
      "text/plain": [
       "  Enzyme Name  Incubation Temperature in Celsius  Incubation Time in minutes  \\\n",
       "0       EcoRI                                 37                          10   \n",
       "\n",
       "   Inactivation Temp in Celsius  Amount of DNA in µg  \\\n",
       "0                            65                    1   \n",
       "\n",
       "   Concentration of DNA solution in µg/µL  \n",
       "0                                       1  "
      ]
     },
     "execution_count": 4,
     "metadata": {},
     "output_type": "execute_result"
    }
   ],
   "source": [
    "\n",
    "#path = \"/Shared drives/PlantSynBioLab/Opentrons/Restriction Enzyme Digestion/csvfiles\"\n",
    "path = \"C:/Users/mkell/Desktop/RestrictionTestCSV.csv\"\n",
    "\n",
    "config_file = pd.read_csv(path, engine = 'python', encoding='utf-8-sig') ## last 2 parameters are error corrections\n",
    "config_df = pd.DataFrame(config_file)\n",
    "\n",
    "config_df"
   ]
  },
  {
   "cell_type": "code",
   "execution_count": 78,
   "metadata": {},
   "outputs": [],
   "source": [
    "# maybe you could input the index of your enzyme as n and then iloc[n,1] ect.\n",
    "\n",
    "enzyme = config_file.iloc[0,0]\n",
    "incubation_temp = config_file.iloc[0,1]\n",
    "incubation_time = config_file.iloc[0,2]\n",
    "inactivation_temp = config_file.iloc[0,3]\n",
    "amount_of_dna = config_file.iloc[0,4]\n",
    "concentration_of_dna = config_file.iloc[0,5]\n",
    "\n",
    "volume_dna = amount_of_dna * (1/concentration_of_dna)\n",
    "volume_water = 17 - volume_dna"
   ]
  },
  {
   "cell_type": "code",
   "execution_count": null,
   "metadata": {},
   "outputs": [],
   "source": [
    "## Configuration\n",
    "def get_config(config_file):\n",
    "    \n",
    "\n"
   ]
  },
  {
   "cell_type": "code",
   "execution_count": null,
   "metadata": {},
   "outputs": [],
   "source": [
    "## protocol\n",
    "\n",
    "def run(protocol: protocol_api.Context):\n",
    "\n",
    "    ## Loading labware\n",
    "    TempUnit = protocol.load_module('Temperature Module',3)\n",
    "    well = TempUnit.load_labware('opentrons_24_aluminumblock_nest_2ml_snapcap')\n",
    "\n",
    "    tiprack1 = protocol.load_labware(\"opentrons_96_tiprack_10ul\",'1')\n",
    "    tiprack2 = protocol.load_labware(\"opentrons_96_tiprack_20ul\",\"2\")\n",
    "    tuberack = protocol.load_labware(\"opentrons_24_tuberack_nest_2ml_snapcap\",\"4\")\n",
    "\n",
    "    ## Loading tools\n",
    "    pipette_left = protocol.load_tools('p20_single','left','tip_racks = [tiprack1]')\n",
    "    pipette_right = protocol.load_tools('p20_single','right','tip_racks = [tiprack2]'')\n",
    "\n",
    "    ## Operations\n",
    "\n",
    "    ## get tip -> get x amount of water to fill to 20uL -> dispense into tube\n",
    "    pipette_left.pick_up_tip(tiprack1['A1'])\n",
    "    pipette_left.aspirate(volume_water,location,2)\n",
    "    pipette_left.dispense(volume_water,well['A1'],2) #create function to deteremine amount needed\n",
    "    pipette_left.blow_out()\n",
    "    pipette_left.drop_tip()\n",
    "\n",
    "\n",
    "\n",
    "    ## get 2uL of 10x buffer -> dispense into tube -> get rid of tip\n",
    "\n",
    "    pipette_left.pick_up_tip()\n",
    "    pipette_left.aspirate(2,location,2)\n",
    "    pipette_left.dispense(2,well['A1'],2)\n",
    "    pipette_left.blow_out()\n",
    "    pipette_left.drop_tip()\n",
    "\n",
    "\n",
    "    ## get tip -> get y amount of DNA -> dispense into tube -> get rid of tip\n",
    "\n",
    "    pipette_left.pick_up_tip()\n",
    "    pipette_left.aspirate(volume_dna,location,2) #create function to determine\n",
    "    pipette_left.dispense(volume_dna,well['A1'],2)\n",
    "    pipette_left.drop_tip()\n",
    "    ## we don't blow out so we dont aerosolize dna\n",
    "\n",
    "    ## get tip -> get 1uL Enzyme -> dispense into tube -> get rid of tip\n",
    "\n",
    "    pipette_left.pick_up_tip()\n",
    "    pipette_left.aspirate(1,location,rate)\n",
    "    pipette_left.dispense(1,well['A1'],1)\n",
    "    pipette_left.blow_out()\n",
    "    pipette_left.drop_tip()\n",
    "\n",
    "    #mix\n",
    "\n",
    "    pipette_left.mix(3,20,well['A1'])  #repetetions, max volume uL, location\n",
    "    #this helps rinse the extra enzyme as well\n",
    "\n",
    "    ## Temp Unit\n",
    "                                        \n",
    "    TempUnit.set_temperature(incubation_temp)\n",
    "    protocol.delay(incubation_time)\n",
    "    TempUnit.set_temperature(inactivation_temp)\n",
    "    \n",
    "    if TempUnit.temperature = inactivation_temp\n",
    "        TempUnit.deactivate()\n",
    "\n",
    "    # ask about thermocycler page 28 of documentation\n",
    "                                        \n",
    "      #pseudocode if thermo is the better option\n",
    "     close lid > set temp to temp for time > deactivate at temp > cool? > open lid \n",
    "                                \n",
    "                            "
   ]
  },
  {
   "cell_type": "code",
   "execution_count": null,
   "metadata": {},
   "outputs": [],
   "source": []
  },
  {
   "cell_type": "code",
   "execution_count": null,
   "metadata": {},
   "outputs": [],
   "source": [
    "def main():\n",
    "    get_config(config_file)\n",
    "    run(protocol: protocol_api.Context)"
   ]
  }
 ],
 "metadata": {
  "kernelspec": {
   "display_name": "Python 3",
   "language": "python",
   "name": "python3"
  },
  "language_info": {
   "codemirror_mode": {
    "name": "ipython",
    "version": 3
   },
   "file_extension": ".py",
   "mimetype": "text/x-python",
   "name": "python",
   "nbconvert_exporter": "python",
   "pygments_lexer": "ipython3",
   "version": "3.8.5"
  }
 },
 "nbformat": 4,
 "nbformat_minor": 4
}
