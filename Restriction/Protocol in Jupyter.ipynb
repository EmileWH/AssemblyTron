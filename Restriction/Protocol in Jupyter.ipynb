{
 "cells": [
  {
   "cell_type": "code",
   "execution_count": null,
   "metadata": {},
   "outputs": [],
   "source": [
    "from opentrons import protocol.api\n",
    "import tkinter as tk\n",
    "import csv\n",
    "import pandas"
   ]
  },
  {
   "cell_type": "code",
   "execution_count": null,
   "metadata": {},
   "outputs": [],
   "source": [
    "## Meta Data\n",
    "\n",
    "metadata = {'protocolName': 'RED',\n",
    "'author':'Mason Kellinger masonkellinger@vt.edu', 'Steven Kenah ksteven18@vt.edu'\n",
    " 'description': 'Restriction Enzyme Digestion',\n",
    " 'apiLevel': '2.9'\n",
    "}\n"
   ]
  },
  {
   "cell_type": "code",
   "execution_count": null,
   "metadata": {},
   "outputs": [],
   "source": [
    "## Configuration\n",
    "def get_config(config_file):\n",
    "    \n",
    "    ### values needed\n",
    "    -amount of DNA  -> determines amount of water\n",
    "    -Enzyme -> buffer type, incubation temp and time, inactivation temp\n",
    "    ###\n",
    "\n",
    "    "
   ]
  },
  {
   "cell_type": "code",
   "execution_count": null,
   "metadata": {},
   "outputs": [],
   "source": [
    "## protocol\n",
    "\n",
    "def run(protocol: protocol_api.RED):\n",
    "\n",
    "    ## Loading labware\n",
    "    TempUnit = protocol.load_labware('TempertureUnit','3') ## FIGURE THIS OUT\n",
    "    tiprack1 = protocol.load_labware(\"opentrons_96_tiprack_10ul\",'1')\n",
    "    tiprack2 = protocol.load_labware(\"opentrons_96_tiprack_20ul\",\"2\")\n",
    "    tuberack = protocol.load_labware(\"opentrons_24_tuberack_nest_2ml_snapcap\",\"4\")\n",
    "\n",
    "    ## Loading tools\n",
    "    pipette_left = protocol.load_tools('p20_single','left','tip_racks = [tiprack1]')\n",
    "    pipette_right = protocol.load_tools('p20_single','right','tip_racks = [tiprack2]'')\n",
    "\n",
    "    ## Operations\n",
    "\n",
    "    ## get tip -> get x amount of water to fill to 20uL -> dispense into tube\n",
    "    pipette_left.pick_up_tip(tiprack1['A1'])\n",
    "    pipette_left.aspirate(parameter,location,rate)\n",
    "    pipette_left.dispense(parameter,tuberack[A1],1) #create function to deteremine amount needed\n",
    "    pipette_left.blow_out()\n",
    "    pipette_left.drop_tip()\n",
    "\n",
    "\n",
    "\n",
    "    ## get 2uL of 10x buffer -> dispense into tube -> get rid of tip\n",
    "\n",
    "    pipette_left.pick_up_tip()\n",
    "    pipette_left.aspirate(2,location,rate)\n",
    "    pipette_left.dispense(2,tuberack[A1],1)\n",
    "    pipette_left.blow_out()\n",
    "    pipette_left.drop_tip()\n",
    "\n",
    "\n",
    "    ## get tip -> get y amount of DNA -> dispense into tube -> get rid of tip\n",
    "\n",
    "    pipette_left.pick_up_tip()\n",
    "    pipette_left.aspirate(parameter2,location,rate) #create function to determine\n",
    "    pipette_left.dispense(parameter2,tuberack[A1],1)\n",
    "    pipette_left.drop_tip()\n",
    "    ## we don't blow out so we dont aerosolize dna\n",
    "\n",
    "    ## get tip -> get 1uL Enzyme -> dispense into tube -> get rid of tip\n",
    "\n",
    "    pipette_left.pick_up_tip()\n",
    "    pipette_left.aspirate(1,location,rate)\n",
    "    pipette_left.dispense(1,tuberack[A1],1)\n",
    "    pipette_left.blow_out()\n",
    "    pipette_left.drop_tip()\n",
    "\n",
    "    #mix\n",
    "\n",
    "    pipette_left.mix(3,20,tuberack[A1])  #repetetions, max volume uL, location\n",
    "    #this helps rinse the extra enzyme as well\n",
    "\n",
    "    ## Temp Unit"
   ]
  },
  {
   "cell_type": "code",
   "execution_count": null,
   "metadata": {},
   "outputs": [],
   "source": []
  },
  {
   "cell_type": "code",
   "execution_count": null,
   "metadata": {},
   "outputs": [],
   "source": [
    "def main():\n",
    "    get_config()\n",
    "    run()"
   ]
  }
 ],
 "metadata": {
  "kernelspec": {
   "display_name": "Python 3",
   "language": "python",
   "name": "python3"
  },
  "language_info": {
   "codemirror_mode": {
    "name": "ipython",
    "version": 3
   },
   "file_extension": ".py",
   "mimetype": "text/x-python",
   "name": "python",
   "nbconvert_exporter": "python",
   "pygments_lexer": "ipython3",
   "version": "3.8.5"
  }
 },
 "nbformat": 4,
 "nbformat_minor": 4
}
