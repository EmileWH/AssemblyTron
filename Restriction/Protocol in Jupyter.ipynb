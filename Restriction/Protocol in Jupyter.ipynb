{
 "cells": [
  {
   "cell_type": "code",
   "execution_count": 1,
   "metadata": {},
   "outputs": [
    {
     "name": "stdout",
     "output_type": "stream",
     "text": [
      "Collecting pandastable\n",
      "  Downloading pandastable-0.12.2.post1.tar.gz (238 kB)\n",
      "Requirement already satisfied: matplotlib>=2.0 in c:\\users\\mkell\\anaconda3\\lib\\site-packages (from pandastable) (3.3.2)\n",
      "Requirement already satisfied: pandas>=0.24 in c:\\users\\mkell\\anaconda3\\lib\\site-packages (from pandastable) (1.1.3)\n",
      "Requirement already satisfied: numexpr>=2.4 in c:\\users\\mkell\\anaconda3\\lib\\site-packages (from pandastable) (2.7.1)\n",
      "Requirement already satisfied: xlrd>=0.9 in c:\\users\\mkell\\anaconda3\\lib\\site-packages (from pandastable) (1.2.0)\n",
      "Requirement already satisfied: future in c:\\users\\mkell\\anaconda3\\lib\\site-packages (from pandastable) (0.18.2)\n",
      "Requirement already satisfied: pyparsing!=2.0.4,!=2.1.2,!=2.1.6,>=2.0.3 in c:\\users\\mkell\\anaconda3\\lib\\site-packages (from matplotlib>=2.0->pandastable) (2.4.7)\n",
      "Requirement already satisfied: python-dateutil>=2.1 in c:\\users\\mkell\\anaconda3\\lib\\site-packages (from matplotlib>=2.0->pandastable) (2.8.1)\n",
      "Requirement already satisfied: numpy>=1.15 in c:\\users\\mkell\\anaconda3\\lib\\site-packages (from matplotlib>=2.0->pandastable) (1.19.2)\n",
      "Requirement already satisfied: kiwisolver>=1.0.1 in c:\\users\\mkell\\anaconda3\\lib\\site-packages (from matplotlib>=2.0->pandastable) (1.3.0)\n",
      "Requirement already satisfied: pillow>=6.2.0 in c:\\users\\mkell\\anaconda3\\lib\\site-packages (from matplotlib>=2.0->pandastable) (8.0.1)\n",
      "Requirement already satisfied: cycler>=0.10 in c:\\users\\mkell\\anaconda3\\lib\\site-packages (from matplotlib>=2.0->pandastable) (0.10.0)\n",
      "Requirement already satisfied: certifi>=2020.06.20 in c:\\users\\mkell\\anaconda3\\lib\\site-packages (from matplotlib>=2.0->pandastable) (2020.6.20)\n",
      "Requirement already satisfied: pytz>=2017.2 in c:\\users\\mkell\\anaconda3\\lib\\site-packages (from pandas>=0.24->pandastable) (2020.1)\n",
      "Requirement already satisfied: six>=1.5 in c:\\users\\mkell\\anaconda3\\lib\\site-packages (from python-dateutil>=2.1->matplotlib>=2.0->pandastable) (1.15.0)\n",
      "Building wheels for collected packages: pandastable\n",
      "  Building wheel for pandastable (setup.py): started\n",
      "  Building wheel for pandastable (setup.py): finished with status 'done'\n",
      "  Created wheel for pandastable: filename=pandastable-0.12.2.post1-py3-none-any.whl size=255038 sha256=277eab5ae5581aaf60e5b4d3ace48cb8e70ffdb9aa49fe9c8d4e50d8611ba969\n",
      "  Stored in directory: c:\\users\\mkell\\appdata\\local\\pip\\cache\\wheels\\f7\\b3\\d1\\a095c64d840409f1846e117b2c71b962449e76c670f96bb13e\n",
      "Successfully built pandastable\n",
      "Installing collected packages: pandastable\n",
      "Successfully installed pandastable-0.12.2.post1\n"
     ]
    }
   ],
   "source": [
    "\n",
    "!pip install pandastable"
   ]
  },
  {
   "cell_type": "code",
   "execution_count": null,
   "metadata": {},
   "outputs": [],
   "source": [
    "#TODO\n",
    "data frame changing in window\n",
    "work out simulation\n",
    "comment when done\n",
    "set up location for water and other stuff\n",
    "get rid of global, use return\n",
    "\n"
   ]
  },
  {
   "cell_type": "code",
   "execution_count": 1,
   "metadata": {},
   "outputs": [],
   "source": [
    "from opentrons import protocol_api\n",
    "import tkinter as tk #basic python package apparently\n",
    "import csv\n",
    "import pandas as pd\n",
    "import numpy as np\n",
    "import os\n",
    "from pandastable import Table, TableModel"
   ]
  },
  {
   "cell_type": "code",
   "execution_count": 2,
   "metadata": {},
   "outputs": [
    {
     "name": "stdout",
     "output_type": "stream",
     "text": [
      "{'protocolName': 'RED', 'author': 'Mason Kellinger masonkellinger@vt.edu', 'description': 'Restriction Enzyme Digestion', 'apiLevel': '2.9'}\n"
     ]
    },
    {
     "data": {
      "text/plain": [
       "'C:\\\\Users\\\\mkell\\\\Documents\\\\GitHub\\\\opentrons\\\\Restriction'"
      ]
     },
     "execution_count": 2,
     "metadata": {},
     "output_type": "execute_result"
    }
   ],
   "source": [
    "## Meta Data\n",
    "\n",
    "metadata = {'protocolName': 'RED',\n",
    "'author':'Mason Kellinger masonkellinger@vt.edu',\n",
    " 'description':'Restriction Enzyme Digestion',\n",
    " 'apiLevel': '2.9'\n",
    "}\n",
    "print(metadata)\n",
    "\n",
    "os.getcwd()"
   ]
  },
  {
   "cell_type": "code",
   "execution_count": 3,
   "metadata": {
    "scrolled": false
   },
   "outputs": [
    {
     "data": {
      "text/html": [
       "<div>\n",
       "<style scoped>\n",
       "    .dataframe tbody tr th:only-of-type {\n",
       "        vertical-align: middle;\n",
       "    }\n",
       "\n",
       "    .dataframe tbody tr th {\n",
       "        vertical-align: top;\n",
       "    }\n",
       "\n",
       "    .dataframe thead th {\n",
       "        text-align: right;\n",
       "    }\n",
       "</style>\n",
       "<table border=\"1\" class=\"dataframe\">\n",
       "  <thead>\n",
       "    <tr style=\"text-align: right;\">\n",
       "      <th></th>\n",
       "      <th>enzyme</th>\n",
       "      <th>incu_temp</th>\n",
       "      <th>incu_time</th>\n",
       "      <th>inac_temp</th>\n",
       "      <th>amount_dna</th>\n",
       "      <th>conc_dna</th>\n",
       "    </tr>\n",
       "  </thead>\n",
       "  <tbody>\n",
       "    <tr>\n",
       "      <th>0</th>\n",
       "      <td>UNITS:</td>\n",
       "      <td>celsius</td>\n",
       "      <td>minutes</td>\n",
       "      <td>celsius</td>\n",
       "      <td>µg</td>\n",
       "      <td>µg/µL</td>\n",
       "    </tr>\n",
       "    <tr>\n",
       "      <th>1</th>\n",
       "      <td>SpeI</td>\n",
       "      <td>37</td>\n",
       "      <td>60</td>\n",
       "      <td>80</td>\n",
       "      <td>1</td>\n",
       "      <td>1</td>\n",
       "    </tr>\n",
       "    <tr>\n",
       "      <th>2</th>\n",
       "      <td>BbvcI</td>\n",
       "      <td>37</td>\n",
       "      <td>60</td>\n",
       "      <td>NaN</td>\n",
       "      <td>1</td>\n",
       "      <td>1</td>\n",
       "    </tr>\n",
       "    <tr>\n",
       "      <th>3</th>\n",
       "      <td>PmeI</td>\n",
       "      <td>37</td>\n",
       "      <td>60</td>\n",
       "      <td>65</td>\n",
       "      <td>1</td>\n",
       "      <td>1</td>\n",
       "    </tr>\n",
       "    <tr>\n",
       "      <th>4</th>\n",
       "      <td>SacI</td>\n",
       "      <td>37</td>\n",
       "      <td>60</td>\n",
       "      <td>65</td>\n",
       "      <td>1</td>\n",
       "      <td>1</td>\n",
       "    </tr>\n",
       "    <tr>\n",
       "      <th>5</th>\n",
       "      <td>NheI</td>\n",
       "      <td>37</td>\n",
       "      <td>60</td>\n",
       "      <td>65</td>\n",
       "      <td>1</td>\n",
       "      <td>1</td>\n",
       "    </tr>\n",
       "    <tr>\n",
       "      <th>6</th>\n",
       "      <td>BsaI</td>\n",
       "      <td>37</td>\n",
       "      <td>60</td>\n",
       "      <td>65</td>\n",
       "      <td>1</td>\n",
       "      <td>1</td>\n",
       "    </tr>\n",
       "    <tr>\n",
       "      <th>7</th>\n",
       "      <td>NotI</td>\n",
       "      <td>37</td>\n",
       "      <td>60</td>\n",
       "      <td>65</td>\n",
       "      <td>1</td>\n",
       "      <td>1</td>\n",
       "    </tr>\n",
       "  </tbody>\n",
       "</table>\n",
       "</div>"
      ],
      "text/plain": [
       "   enzyme incu_temp incu_time inac_temp amount_dna conc_dna\n",
       "0  UNITS:   celsius   minutes   celsius         µg    µg/µL\n",
       "1    SpeI        37        60        80          1        1\n",
       "2   BbvcI        37        60       NaN          1        1\n",
       "3    PmeI        37        60        65          1        1\n",
       "4    SacI        37        60        65          1        1\n",
       "5    NheI        37        60        65          1        1\n",
       "6    BsaI        37        60        65          1        1\n",
       "7    NotI        37        60        65          1        1"
      ]
     },
     "execution_count": 3,
     "metadata": {},
     "output_type": "execute_result"
    }
   ],
   "source": [
    "\n",
    "#path = \"/Shared drives/PlantSynBioLab/Opentrons/Restriction Enzyme Digestion/csvfiles\"\n",
    "path = \"C:/Users/mkell/Desktop/RestrictionTestCSV2.csv\"\n",
    "\n",
    "#config_file = pd.read_csv(path, engine = 'python', encoding='utf-8-sig') ## last 2 parameters are error corrections\n",
    "config_file = pd.read_csv(\"CommonEnzyme.csv\",engine = 'python', encoding='utf-8-sig')\n",
    "\n",
    "config_df = pd.DataFrame(config_file)\n",
    "\n",
    "\n",
    "config_df"
   ]
  },
  {
   "cell_type": "code",
   "execution_count": 8,
   "metadata": {},
   "outputs": [
    {
     "data": {
      "text/plain": [
       "'SpeI'"
      ]
     },
     "execution_count": 8,
     "metadata": {},
     "output_type": "execute_result"
    }
   ],
   "source": [
    "from tkinter import *\n",
    "\n",
    "    # setup window\n",
    "root = Tk()\n",
    "\n",
    "    # window size \n",
    "root.geometry(\"500x500\")\n",
    "root.title(\"Enzyme Entry\")\n",
    "\n",
    "    # make text entry box \n",
    "entry = Entry(root)\n",
    "entry.pack()\n",
    "\n",
    "label3 = Label(root,text = config_df[\"enzyme\"])  #lists possible enzymes\n",
    "label3.place(relx = 0.2, rely = 0.2, anchor = \"center\")\n",
    "\n",
    "def enter():\n",
    "    label1 = Label(root,text = entry.get()) # shows what you typed in. not too useful\n",
    "    label1.pack()\n",
    "   \n",
    "    # assign global variable to use outside of `enter` function \n",
    "    global enzyme_name\n",
    "    enzyme_name = \"SpeI\"  # this is if the user decides to not enter anything\n",
    "    enzyme_name = entry.get()\n",
    "  \n",
    "    # display entered value and its values in the dataframe \n",
    "    label2 = Label(root,text =  str(config_file.loc[config_file.enzyme==enzyme_name]))\n",
    "    label2.place(relx = 0.5,rely = 0.5,anchor = 'center')\n",
    "    return enzyme_name\n",
    "    \n",
    "\n",
    "\n",
    "def confirm():\n",
    "    root.destroy()\n",
    "\n",
    "button1 = Button(root,text=\"Enter your enzyme\",command = enter)\n",
    "button1.pack()\n",
    "\n",
    "button2 = Button(root,text=\"Confirm your data, if incorrect fix in table\",command = confirm)\n",
    "button2.place(relx = 0.5,rely = 0.7,anchor = 'center')\n",
    "\n",
    "    # startup window loop  \n",
    "root.mainloop()\n",
    "\n",
    "enzyme_name"
   ]
  },
  {
   "cell_type": "code",
   "execution_count": 5,
   "metadata": {
    "scrolled": false
   },
   "outputs": [
    {
     "ename": "NameError",
     "evalue": "name 'enzyme_name' is not defined",
     "output_type": "error",
     "traceback": [
      "\u001b[1;31m---------------------------------------------------------------------------\u001b[0m",
      "\u001b[1;31mNameError\u001b[0m                                 Traceback (most recent call last)",
      "\u001b[1;32m<ipython-input-5-e1196084eb8c>\u001b[0m in \u001b[0;36m<module>\u001b[1;34m\u001b[0m\n\u001b[0;32m      2\u001b[0m \u001b[1;33m\u001b[0m\u001b[0m\n\u001b[0;32m      3\u001b[0m \u001b[1;33m\u001b[0m\u001b[0m\n\u001b[1;32m----> 4\u001b[1;33m \u001b[0mincubation_temp\u001b[0m \u001b[1;33m=\u001b[0m \u001b[0mint\u001b[0m\u001b[1;33m(\u001b[0m\u001b[0mconfig_file\u001b[0m\u001b[1;33m.\u001b[0m\u001b[0mloc\u001b[0m\u001b[1;33m[\u001b[0m\u001b[0mconfig_file\u001b[0m\u001b[1;33m.\u001b[0m\u001b[0menzyme\u001b[0m\u001b[1;33m==\u001b[0m\u001b[0menzyme_name\u001b[0m\u001b[1;33m,\u001b[0m\u001b[1;34m\"incu_temp\"\u001b[0m\u001b[1;33m]\u001b[0m\u001b[1;33m)\u001b[0m\u001b[1;33m\u001b[0m\u001b[1;33m\u001b[0m\u001b[0m\n\u001b[0m\u001b[0;32m      5\u001b[0m \u001b[0mincubation_time\u001b[0m \u001b[1;33m=\u001b[0m \u001b[0mint\u001b[0m\u001b[1;33m(\u001b[0m\u001b[0mconfig_file\u001b[0m\u001b[1;33m.\u001b[0m\u001b[0mloc\u001b[0m\u001b[1;33m[\u001b[0m\u001b[0mconfig_file\u001b[0m\u001b[1;33m.\u001b[0m\u001b[0menzyme\u001b[0m\u001b[1;33m==\u001b[0m\u001b[0menzyme_name\u001b[0m\u001b[1;33m,\u001b[0m\u001b[1;34m\"incu_time\"\u001b[0m\u001b[1;33m]\u001b[0m\u001b[1;33m)\u001b[0m\u001b[1;33m\u001b[0m\u001b[1;33m\u001b[0m\u001b[0m\n\u001b[0;32m      6\u001b[0m \u001b[0minactivation_temp\u001b[0m \u001b[1;33m=\u001b[0m \u001b[0mint\u001b[0m\u001b[1;33m(\u001b[0m\u001b[0mconfig_file\u001b[0m\u001b[1;33m.\u001b[0m\u001b[0mloc\u001b[0m\u001b[1;33m[\u001b[0m\u001b[0mconfig_file\u001b[0m\u001b[1;33m.\u001b[0m\u001b[0menzyme\u001b[0m\u001b[1;33m==\u001b[0m\u001b[0menzyme_name\u001b[0m\u001b[1;33m,\u001b[0m\u001b[1;34m\"inac_temp\"\u001b[0m\u001b[1;33m]\u001b[0m\u001b[1;33m)\u001b[0m\u001b[1;33m\u001b[0m\u001b[1;33m\u001b[0m\u001b[0m\n",
      "\u001b[1;31mNameError\u001b[0m: name 'enzyme_name' is not defined"
     ]
    }
   ],
   "source": [
    "# maybe you could input the index of your enzyme as n and then iloc[n,1] ect.\n",
    "\n",
    "\n",
    "incubation_temp = int(config_file.loc[config_file.enzyme==enzyme_name,\"incu_temp\"])\n",
    "incubation_time = int(config_file.loc[config_file.enzyme==enzyme_name,\"incu_time\"])\n",
    "inactivation_temp = int(config_file.loc[config_file.enzyme==enzyme_name,\"inac_temp\"])\n",
    "amount_of_dna = int(config_file.loc[config_file.enzyme==enzyme_name,\"amount_dna\"])\n",
    "concentration_of_dna = int(config_file.loc[config_file.enzyme==enzyme_name,\"conc_dna\"])\n",
    "\n",
    "volume_dna = amount_of_dna * (1/concentration_of_dna)\n",
    "volume_water = 17 - volume_dna\n",
    "\n"
   ]
  },
  {
   "cell_type": "code",
   "execution_count": 6,
   "metadata": {},
   "outputs": [],
   "source": [
    "from tkinter import *\n",
    "from pandastable import Table, TableModel\n",
    "\n",
    "class TestApp(Frame):\n",
    "        \"\"\"Basic test frame for the table\"\"\"\n",
    "        def __init__(self, parent=None):\n",
    "            self.parent = parent\n",
    "            Frame.__init__(self)\n",
    "            self.main = self.master\n",
    "            self.main.geometry('600x400+200+100')\n",
    "            self.main.title('Table app')\n",
    "            f = Frame(self.main)\n",
    "            f.pack(fill=BOTH,expand=1)\n",
    "            df = config_df\n",
    "            self.table = pt = Table(f, dataframe=df,\n",
    "                                    showtoolbar=True, showstatusbar=True)\n",
    "            pt.show()\n",
    "            return\n",
    "\n",
    "app = TestApp()\n",
    "#launch the app\n",
    "app.mainloop()\n"
   ]
  },
  {
   "cell_type": "code",
   "execution_count": 7,
   "metadata": {},
   "outputs": [],
   "source": [
    "import tkinter as tk\n",
    "import pandas as pd\n",
    "from tkinter import filedialog, messagebox, ttk\n",
    "\n",
    "root = Tk()\n",
    "root.geometry(\"500x500\")\n",
    "root.pack_propagate(False)\n",
    "root.resizable(0,0)\n",
    "\n",
    "#Frame for Table\n",
    "frame1 = LabelFrame(root,text = \"Configuration Data\")\n",
    "frame1.place(height=250,width=500)\n",
    "\n",
    "#Frame for file manipulation\n",
    "\n",
    "file_frame = LabelFrame(root,text = \"Open File\")\n",
    "file_frame.place(height=100,width =400,rely=0.65,relx=0)\n",
    "\n",
    "#Buttons for file searching\n",
    "button3 = Button(file_frame, text =\"Search for File\")\n",
    "button3.place(rely=0.65,relx=0.50)\n",
    "\n",
    "button4 = Button(file_frame,text = \"Confirm File\")\n",
    "button4.place(rely=0.65,relx=0.30)\n",
    "\n",
    "label_file = Label(file_frame,text= \"No File Selected\")\n",
    "label_file.place(rely=0,relx=0)\n",
    "\n",
    "#Visualing Widget\n",
    "tv1 = ttk.Treeview(frame1)\n",
    "tv1.place(relheight=1,relwidth=1)\n",
    "\n",
    "treescrolly = Scrollbar(frame1,orient=\"vertical\",command = tv1.yview)\n",
    "treescrollx = Scrollbar(frame1,orient=\"horizontal\",command = tv1.xview)\n",
    "tv1.configure(xscrollcommand=treescrollx.set,yscrollcommand=treescrolly.set)\n",
    "treescrollx.pack(side=\"bottom\",fill=\"x\")\n",
    "treescrolly.pack(side=\"right\",fill=\"y\")\n",
    "\n",
    "\n",
    "\n",
    "\n",
    "root.mainloop()"
   ]
  },
  {
   "cell_type": "code",
   "execution_count": 11,
   "metadata": {},
   "outputs": [],
   "source": [
    "\n"
   ]
  },
  {
   "cell_type": "code",
   "execution_count": 28,
   "metadata": {},
   "outputs": [
    {
     "name": "stderr",
     "output_type": "stream",
     "text": [
      "C:\\Users\\mkell\\.opentrons\\robot_settings.json not found. Loading defaults\n",
      "C:\\Users\\mkell\\.opentrons\\deck_calibration.json not found. Loading defaults\n"
     ]
    },
    {
     "ename": "NameError",
     "evalue": "name 'location' is not defined",
     "output_type": "error",
     "traceback": [
      "\u001b[1;31m---------------------------------------------------------------------------\u001b[0m",
      "\u001b[1;31mNameError\u001b[0m                                 Traceback (most recent call last)",
      "\u001b[1;32m<ipython-input-28-9931fa5e1c2b>\u001b[0m in \u001b[0;36m<module>\u001b[1;34m\u001b[0m\n\u001b[0;32m     20\u001b[0m     \u001b[1;31m## get tip -> get x amount of water to fill to 20uL -> dispense into tube\u001b[0m\u001b[1;33m\u001b[0m\u001b[1;33m\u001b[0m\u001b[1;33m\u001b[0m\u001b[0m\n\u001b[0;32m     21\u001b[0m \u001b[0mpipette_left\u001b[0m\u001b[1;33m.\u001b[0m\u001b[0mpick_up_tip\u001b[0m\u001b[1;33m(\u001b[0m\u001b[0mtiprack1\u001b[0m\u001b[1;33m[\u001b[0m\u001b[1;34m'A1'\u001b[0m\u001b[1;33m]\u001b[0m\u001b[1;33m)\u001b[0m\u001b[1;33m\u001b[0m\u001b[1;33m\u001b[0m\u001b[0m\n\u001b[1;32m---> 22\u001b[1;33m \u001b[0mpipette_left\u001b[0m\u001b[1;33m.\u001b[0m\u001b[0maspirate\u001b[0m\u001b[1;33m(\u001b[0m\u001b[0mvolume_water\u001b[0m\u001b[1;33m,\u001b[0m\u001b[0mlocation\u001b[0m\u001b[1;33m,\u001b[0m\u001b[1;36m2\u001b[0m\u001b[1;33m)\u001b[0m\u001b[1;33m\u001b[0m\u001b[1;33m\u001b[0m\u001b[0m\n\u001b[0m\u001b[0;32m     23\u001b[0m \u001b[0mpipette_left\u001b[0m\u001b[1;33m.\u001b[0m\u001b[0mdispense\u001b[0m\u001b[1;33m(\u001b[0m\u001b[0mvolume_water\u001b[0m\u001b[1;33m,\u001b[0m\u001b[0mwell\u001b[0m\u001b[1;33m[\u001b[0m\u001b[1;34m'A1'\u001b[0m\u001b[1;33m]\u001b[0m\u001b[1;33m,\u001b[0m\u001b[1;36m2\u001b[0m\u001b[1;33m)\u001b[0m \u001b[1;31m#create function to deteremine amount needed\u001b[0m\u001b[1;33m\u001b[0m\u001b[1;33m\u001b[0m\u001b[0m\n\u001b[0;32m     24\u001b[0m \u001b[0mpipette_left\u001b[0m\u001b[1;33m.\u001b[0m\u001b[0mblow_out\u001b[0m\u001b[1;33m(\u001b[0m\u001b[1;33m)\u001b[0m\u001b[1;33m\u001b[0m\u001b[1;33m\u001b[0m\u001b[0m\n",
      "\u001b[1;31mNameError\u001b[0m: name 'location' is not defined"
     ]
    }
   ],
   "source": [
    "# Protocol \n",
    "\n",
    "from opentrons import simulate\n",
    "protocol = simulate.get_protocol_api('2.9')\n",
    "\n",
    "    ## Loading labware\n",
    "TempUnit = protocol.load_module('Temperature Module',3)\n",
    "well = TempUnit.load_labware('opentrons_24_aluminumblock_nest_2ml_snapcap')\n",
    "    \n",
    "tiprack1 = protocol.load_labware(\"opentrons_96_tiprack_10ul\",'1')\n",
    "tiprack2 = protocol.load_labware(\"opentrons_96_tiprack_20ul\",\"2\")\n",
    "tuberack = protocol.load_labware(\"opentrons_24_tuberack_nest_2ml_snapcap\",\"4\")\n",
    "    \n",
    "        ## Loading tools\n",
    "pipette_left = protocol.load_instrument('p20_single_gen2','left',tip_racks = [tiprack1])\n",
    "pipette_right = protocol.load_instrument('p20_single_gen2','right',tip_racks = [tiprack2])\n",
    "    \n",
    "        ## Operations\n",
    "\n",
    "    ## get tip -> get x amount of water to fill to 20uL -> dispense into tube\n",
    "pipette_left.pick_up_tip(tiprack1['A1'])\n",
    "pipette_left.aspirate(volume_water,location,2)\n",
    "pipette_left.dispense(volume_water,well['A1'],2) #create function to deteremine amount needed\n",
    "pipette_left.blow_out()\n",
    "pipette_left.drop_tip()\n",
    "\n",
    "    ## get 2uL of 10x buffer -> dispense into tube -> get rid of tip\n",
    "\n",
    "pipette_left.pick_up_tip()\n",
    "pipette_left.aspirate(2,location,2)\n",
    "pipette_left.dispense(2,well['A1'],2)\n",
    "pipette_left.blow_out()\n",
    "pipette_left.drop_tip()\n",
    "\n",
    "\n",
    "    ## get tip -> get y amount of DNA -> dispense into tube -> get rid of tip\n",
    "\n",
    "pipette_left.pick_up_tip()\n",
    "pipette_left.aspirate(volume_dna,location,2) #create function to determine\n",
    "pipette_left.dispense(volume_dna,well['A1'],2)\n",
    "pipette_left.drop_tip()\n",
    "    ## we don't blow out so we dont aerosolize dna\n",
    "\n",
    "    ## get tip -> get 1uL Enzyme -> dispense into tube -> get rid of tip\n",
    "\n",
    "pipette_left.pick_up_tip()\n",
    "pipette_left.aspirate(1,location,rate)\n",
    "pipette_left.dispense(1,well['A1'],1)\n",
    "pipette_left.blow_out()\n",
    "pipette_left.drop_tip()\n",
    "    \n",
    "    #mix\n",
    "\n",
    "pipette_left.mix(3,20,well['A1'])  #repetetions, max volume uL, location\n",
    "    #this helps rinse the extra enzyme as well\n",
    "\n",
    "## Temp Unit - incubate at temp for time t and then inactivate at temp for 10 min then rest at 4   degrees\n",
    "                                        \n",
    "TempUnit.set_temperature(incubation_temp)\n",
    "protocol.delay(incubation_time)\n",
    "TempUnit.set_temperature(inactivation_temp)\n",
    "protocol.delay(10)\n",
    "TempUnit.set_temperature(4)\n",
    "    "
   ]
  },
  {
   "cell_type": "code",
   "execution_count": 12,
   "metadata": {},
   "outputs": [],
   "source": []
  },
  {
   "cell_type": "code",
   "execution_count": null,
   "metadata": {},
   "outputs": [],
   "source": []
  }
 ],
 "metadata": {
  "kernelspec": {
   "display_name": "Python 3",
   "language": "python",
   "name": "python3"
  },
  "language_info": {
   "codemirror_mode": {
    "name": "ipython",
    "version": 3
   },
   "file_extension": ".py",
   "mimetype": "text/x-python",
   "name": "python",
   "nbconvert_exporter": "python",
   "pygments_lexer": "ipython3",
   "version": "3.8.5"
  }
 },
 "nbformat": 4,
 "nbformat_minor": 4
}
