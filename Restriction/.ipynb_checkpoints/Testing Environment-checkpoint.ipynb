{
 "cells": [
  {
   "cell_type": "code",
   "execution_count": 7,
   "metadata": {},
   "outputs": [],
   "source": [
    "import tkinter as tk\n",
    "from tkinter import *\n",
    "\n",
    "window = tk.Tk()\n",
    "\n",
    "notice = tk.Label(text=\"Notice Me\",fg=\"blue\",bg=\"white\",width=10,height=10)\n",
    "notice.pack()\n",
    "\n",
    "click_button = tk.Button(text=\"Click Me\")\n",
    "click_button.pack()\n",
    "\n",
    "entry = tk.Entry(fg=\"yellow\",bg=\"green\")\n",
    "entry.pack()\n",
    "\n",
    "\n",
    "window.geometry(\"400x400\")\n",
    "window.title(\"Test Studio\")\n",
    "window.mainloop()"
   ]
  },
  {
   "cell_type": "code",
   "execution_count": 4,
   "metadata": {},
   "outputs": [
    {
     "data": {
      "text/plain": [
       "'5'"
      ]
     },
     "execution_count": 4,
     "metadata": {},
     "output_type": "execute_result"
    }
   ],
   "source": [
    "import tkinter as tk\n",
    "from tkinter import *\n",
    "\n",
    "calibrate = False # While the exact z_coord isn't set, keep running the loop program\n",
    "while calibrate == False:\n",
    "    window = tk.Tk() #open window\n",
    "    \n",
    "    def confirm(): # If confirm button pressed, destory window and change calibrated to true\n",
    "        window.destroy()\n",
    "        global calibrate\n",
    "        calibrate = True\n",
    "        \n",
    "        \n",
    "    def test(): #If test button pressed, grab z variable from entry and run in to robot\n",
    "        global z_coord\n",
    "        z_coord = z_entry.get()\n",
    "        window.destroy()\n",
    "        \n",
    "        \n",
    "    warning = tk.Label(text=\"Start with a large value and slowly increment down until optimal z coord\")\n",
    "    warning.pack()\n",
    "    \n",
    "    z_entry = tk.Entry()\n",
    "    z_entry.pack()\n",
    "    \n",
    "    \n",
    "    test_button = tk.Button(text=\"Test\",command=test)\n",
    "    test_button.place(rely=0.2,relx=0.4)\n",
    "    \n",
    "    confirm_button = tk.Button(text=\"Confirm\",command=confirm)\n",
    "    confirm_button.place(rely=0.2,relx=0.6)\n",
    "\n",
    "    window.geometry(\"400x400\")\n",
    "    window.title(\"Calibration Software\")\n",
    "    window.mainloop()\n",
    "\n",
    "z_coord"
   ]
  }
 ],
 "metadata": {
  "kernelspec": {
   "display_name": "Python 3",
   "language": "python",
   "name": "python3"
  },
  "language_info": {
   "codemirror_mode": {
    "name": "ipython",
    "version": 3
   },
   "file_extension": ".py",
   "mimetype": "text/x-python",
   "name": "python",
   "nbconvert_exporter": "python",
   "pygments_lexer": "ipython3",
   "version": "3.8.5"
  }
 },
 "nbformat": 4,
 "nbformat_minor": 4
}
