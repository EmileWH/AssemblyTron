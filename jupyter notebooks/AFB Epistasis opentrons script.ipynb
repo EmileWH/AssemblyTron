{
 "cells": [
  {
   "cell_type": "markdown",
   "metadata": {},
   "source": [
    "# Opentrons Protocol for AFB Epistasis Mutant Cloning"
   ]
  },
  {
   "cell_type": "markdown",
   "metadata": {},
   "source": [
    "First we will import python API (Application Programming Interface) into our script so that we can develop a protol that can be understood by the robot\n"
   ]
  },
  {
   "cell_type": "code",
   "execution_count": 6,
   "metadata": {},
   "outputs": [
    {
     "name": "stdout",
     "output_type": "stream",
     "text": [
      "Requirement already up-to-date: opentrons in c:\\users\\jonbr\\anaconda3\\lib\\site-packages (3.21.2)\n",
      "Requirement already satisfied, skipping upgrade: aionotify==0.2.0 in c:\\users\\jonbr\\anaconda3\\lib\\site-packages (from opentrons) (0.2.0)\n",
      "Requirement already satisfied, skipping upgrade: pyserial==3.4 in c:\\users\\jonbr\\anaconda3\\lib\\site-packages (from opentrons) (3.4)\n",
      "Requirement already satisfied, skipping upgrade: numpy>=1.15.1 in c:\\users\\jonbr\\anaconda3\\lib\\site-packages (from opentrons) (1.18.5)\n",
      "Requirement already satisfied, skipping upgrade: opentrons-shared-data==3.21.2 in c:\\users\\jonbr\\anaconda3\\lib\\site-packages (from opentrons) (3.21.2)\n",
      "Requirement already satisfied, skipping upgrade: urwid==1.3.1 in c:\\users\\jonbr\\anaconda3\\lib\\site-packages (from opentrons) (1.3.1)\n",
      "Requirement already satisfied, skipping upgrade: typing-extensions>=3.7.4.3 in c:\\users\\jonbr\\anaconda3\\lib\\site-packages (from opentrons) (3.7.4.3)\n",
      "Requirement already satisfied, skipping upgrade: jsonschema<4,>=3.0.2 in c:\\users\\jonbr\\anaconda3\\lib\\site-packages (from opentrons) (3.2.0)\n",
      "Requirement already satisfied, skipping upgrade: pyrsistent>=0.14.0 in c:\\users\\jonbr\\anaconda3\\lib\\site-packages (from jsonschema<4,>=3.0.2->opentrons) (0.16.0)\n",
      "Requirement already satisfied, skipping upgrade: setuptools in c:\\users\\jonbr\\anaconda3\\lib\\site-packages (from jsonschema<4,>=3.0.2->opentrons) (49.2.0.post20200714)\n",
      "Requirement already satisfied, skipping upgrade: attrs>=17.4.0 in c:\\users\\jonbr\\anaconda3\\lib\\site-packages (from jsonschema<4,>=3.0.2->opentrons) (19.3.0)\n",
      "Requirement already satisfied, skipping upgrade: six>=1.11.0 in c:\\users\\jonbr\\appdata\\roaming\\python\\python38\\site-packages (from jsonschema<4,>=3.0.2->opentrons) (1.15.0)\n"
     ]
    }
   ],
   "source": [
    "!pip install --upgrade opentrons"
   ]
  },
  {
   "cell_type": "markdown",
   "metadata": {},
   "source": [
    "Metadata is a dictionary of data that is read by the server and returned to the opentrons app. give yourself credit.\n",
    "you are however required to specify the 'apiLevel' here"
   ]
  },
  {
   "cell_type": "code",
   "execution_count": 5,
   "metadata": {},
   "outputs": [
    {
     "name": "stdout",
     "output_type": "stream",
     "text": [
      "{'protocolName': 'AFB Epistasis Mutations Protocol', 'author': 'John Bryant <jbryant2@vt.edu>', 'description': 'Protocol for performing PCR reactions and Plasmid assembly for TIR1 and AFB mutants', 'apiLevel': '2.6'}\n"
     ]
    }
   ],
   "source": [
    "from opentrons import protocol_api\n",
    "metadata = {\n",
    "    'protocolName': 'AFB Epistasis Mutations Protocol',\n",
    "    'author': 'John Bryant <jbryant2@vt.edu>',\n",
    "    'description': 'Protocol for performing PCR reactions and Plasmid assembly for TIR1 and AFB mutants',\n",
    "    'apiLevel': '2.6'\n",
    "}\n",
    "print(metadata)"
   ]
  },
  {
   "cell_type": "markdown",
   "metadata": {},
   "source": [
    "Protocols are structured around a function called run(protocol). The function has to be name \"run\" and must take exactly one mandatory argument (\"protocol\"). function run is a container for the code that defines your protocol. \n",
    "\n",
    "protocol context has 2 responsibilities:\n",
    "1)remember, track, and check robot's state\n",
    "2)expose the functions that make the robot execute actions."
   ]
  },
  {
   "cell_type": "code",
   "execution_count": 34,
   "metadata": {},
   "outputs": [
    {
     "name": "stdout",
     "output_type": "stream",
     "text": [
      "initial diluted primer concentration is: 2.5\n",
      "add 390 uL h2O\n"
     ]
    }
   ],
   "source": [
    "#calculation of how much H2O to add to primer dilutions\n",
    "A=10 #this is how much stock primer you add\n",
    "A2=400 # this is the volume you bring it up to\n",
    "X=((A)*100)/A2 #diluted primer concentration\n",
    "print('initial diluted primer concentration is:',str(X))\n",
    "prmh20 = A2-A #this is how much h20 you need to add to\n",
    "print('add',str(prmh20),'uL h2O')\n"
   ]
  },
  {
   "cell_type": "code",
   "execution_count": 37,
   "metadata": {},
   "outputs": [
    {
     "name": "stdout",
     "output_type": "stream",
     "text": [
      "add 17.96 uL water to 1 uL stock template\n"
     ]
    }
   ],
   "source": [
    "#concentration of templates\n",
    "tempconc1= 237 #concentration of concentrated template\n",
    "B = 1 #uL of stock template to start with\n",
    "C = 12.5 #desired ng/uL of template (your diluted template concentration)\n",
    "h20totemp=((B*tempconc1)/C)-B\n",
    "print('add',str(h20totemp),'uL water to',str(B),'uL stock template')"
   ]
  },
  {
   "cell_type": "markdown",
   "metadata": {},
   "source": [
    "now after initial dilutions we have primers at 2.5uM/L and templates at 12.5ng/uL\n",
    "in the pcr cocktain it is 25 uL total with 0.5ng of each template and 0.1 uM primers\n"
   ]
  },
  {
   "cell_type": "code",
   "execution_count": 39,
   "metadata": {
    "scrolled": true
   },
   "outputs": [
    {
     "name": "stdout",
     "output_type": "stream",
     "text": [
      "final primer concentration is: 0.1\n"
     ]
    }
   ],
   "source": [
    "pcrprim1=1 #amount in microliters to add to pcr reaction\n",
    "pcrtotvol=25 #total vol of pcr rxn in uL\n",
    "finalprmconc=(X*pcrprim1)/pcrtotvol #should be 0.1\n",
    "print('final primer concentration is:',str(finalprmconc))"
   ]
  },
  {
   "cell_type": "code",
   "execution_count": null,
   "metadata": {},
   "outputs": [],
   "source": []
  },
  {
   "cell_type": "code",
   "execution_count": 42,
   "metadata": {},
   "outputs": [
    {
     "data": {
      "text/plain": [
       "0.5"
      ]
     },
     "execution_count": 42,
     "metadata": {},
     "output_type": "execute_result"
    }
   ],
   "source": [
    "template=1 #amount in microliters to add to pcr reaction\n",
    "pcrtotvol=25 #total vol of pcr rxn in uL\n",
    "(template*C)/25"
   ]
  },
  {
   "cell_type": "code",
   "execution_count": 48,
   "metadata": {},
   "outputs": [
    {
     "name": "stdout",
     "output_type": "stream",
     "text": [
      "add 7.5 h2o to reaction\n"
     ]
    }
   ],
   "source": [
    "#how much water do we add to this pcr?\n",
    "Q5=12.5\n",
    "amth20=(pcrtotvol-Q5-pcrprim1-pcrprim1-pcrprim1-pcrprim1-template)#each tube has four primers and one template\n",
    "print('add',str(amth20), 'h2o to reaction')"
   ]
  },
  {
   "cell_type": "code",
   "execution_count": 12,
   "metadata": {},
   "outputs": [],
   "source": [
    "\n",
    "\n",
    "\n",
    "\n",
    "\n",
    "def run(protocol: protocol_api.ProtocolContext):\n",
    "    \n",
    "    #labware:\n",
    "    tiprack1 = protocol.load_labware('opentrons_96_tiprack_300ul', '1')\n",
    "    tiprack2 = protocol.load_labware('opentrons_96_tiprack_20ul','2')\n",
    "    tuberack1 = protocol.load_labware('opentrons_24_tuberack_generic_2ml_screwcap','3') #holds stock primers and templates\n",
    "    bigtuberack = protocol.load_labware('opentrons_15_tuberack_falcon_15ml_conical','4') #holds molec bio grad H2O\n",
    "    tuberack2 = protocol.load_labware('opentrons_24_tuberack_nest_1.5ml_snapcap','5') # holds dilute primers and templates\n",
    "    \n",
    "    tc_mod = protocol.load_module('Thermocycler Module')\n",
    "    plate = tc_mod.load_labware('nest_96_wellplate_100ul_pcr_full_skirt')\n",
    "    \n",
    "    #can put dpnI digestion on either place 6 or 9\n",
    "    \n",
    "    \n",
    "    #pipettes\n",
    "    right_pipette = protocol.load_instrument('p300_single','right',tipracks=[tiprack1])\n",
    "    left_pipette = protocol.load_instrument('p20_single','left',tipracks=[tiprack2])\n",
    "    \n",
    "    #commands\n",
    "    \n",
    "    #put water in for diluted primers (using stkprmh20 variable defined earlier)\n",
    "    p200.distribute(stkprmh20, bigtuberack.wells('C5'), tuberack2.wells('A1','A2','A3','A4','A5','A6','B1','B2','B3','B4','B5','B6','C1','C2','C3','C4','C5','C6','D1','D2','D3'))  # dilutent\n",
    " \n",
    "    # loop through each tuberack well to dilute stock primers\n",
    "    for i in range(21):\n",
    "\n",
    "      # save the source well and destination column to variables\n",
    "      source = tuberack1.wells(i)\n",
    "      destination = tuberack2.wells(i)\n",
    "\n",
    "      # transfer 10uL of source to first well in column (using A variable defined earlier)\n",
    "      left_pipette.transfer(A, source, destination)\n",
    "\n",
    "      # dilute the sample down the column (using A variable defined earlier)\n",
    "      left_pipette.transfer(\n",
    "        A, column.wells('1', to='6'), column.wells('2', to='4'),\n",
    "        mix_after=(3, 25))\n",
    "    \n",
    "    \n",
    "    #need to loop through and dilute both of the templates (using variable B defined above)\n",
    "    p200.distribute(h20totemp, bigtuberack.wells('C5'), tuberack2.wells('D4','D5'))  # dilutent\n",
    " \n",
    "    \n",
    "    left_pipette.pick_up_tip()\n",
    "    left_pipette.aspirate(B,tuberack1['D5'])\n",
    "    left_pipette.dispense(B,tuberack2['D5'])\n",
    "    left_pipette.drop_tip()\n",
    "    #########################################################################################\n",
    "    \n",
    "    #time to start filling up the pcr tubes\n",
    "    \n",
    "    #first add appropriate amount of water\n",
    "    #put water in for diluted primers (using stkprmh20 variable defined earlier)\n",
    "    p200.distribute(amth20, bigtuberack.wells('C5'), plate.wells('A1','A2','A3','A4','A5','A6','A7','A8','A9'] # dilutent\n",
    " \n",
    "    \n",
    "    #move diluted primers into pcr tubes how do i do this with sets of four primers going into each pcr tube\n",
    "    # loop through each tuberack well to dilute diluted primers\n",
    "    for i in range(21):\n",
    "\n",
    "      # save the source well and destination column to variables\n",
    "      source = tuberack2.wells(i)\n",
    "      destination = tuberack2.wells(i)\n",
    "\n",
    "      # transfer 10uL of source to first well in column (using A variable defined earlier)\n",
    "      left_pipette.transfer(A, source, destination)\n",
    "\n",
    "      # dilute the sample down the column (using A variable defined earlier)\n",
    "      left_pipette.transfer(\n",
    "        A, column.wells('1', to='6'), column.wells('2', to='4'),\n",
    "        mix_after=(3, 25))\n",
    "    \n",
    "      #move diluted templates into pcr tubes - this should probable be done with an if else statement\n",
    "                                                                 \n",
    "    \n",
    "   \n",
    "    #######################################################################################################\n",
    "                                                                 \n",
    "    #set up pcr reaction in the thermocycler module\n",
    "    \n",
    "    #open lid\n",
    "    tc_mod.open_lid()\n",
    "    \n",
    "    #close lid\n",
    "    tc_mod.close_lid()\n",
    "    \n",
    "    #set lid temperature\n",
    "    tc_mod.set_lid_temperature(100)\n",
    "    \n",
    "    #set block temp profile\n",
    "   \n",
    "    tc_mod.execute_profile(98, hold_time_seconds=30, block_max_volume=50)\n",
    "\n",
    "    profile = [\n",
    "    {'temperature': 98, 'hold_time_seconds': 10},\n",
    "    {'temperature': 65, 'hold_time_seconds': 30},\n",
    "    {'temperature': 72, }]\n",
    "\n",
    "    tc_mod.execute_profile(steps=profile, repetitions=34, block_max_volume=50)\n",
    "    \n",
    "    tc_mod.execute_profile(72, hold_time_minutes=5, block_max_volume=50)\n",
    "    \n",
    "    ################################################################################\n",
    "    #add DpnI for digestion\n",
    "    #add DpnI to each PCR product\n",
    "    \n",
    "    \n",
    "\n",
    "    "
   ]
  },
  {
   "cell_type": "code",
   "execution_count": 11,
   "metadata": {},
   "outputs": [
    {
     "name": "stdout",
     "output_type": "stream",
     "text": [
      "99.0\n"
     ]
    }
   ],
   "source": [
    "#calculation of how much H2O to add to primer dilutions\n",
    "A=1 #this is how much stock primer you add\n",
    "X=((A)*100)/1\n",
    "stkprmh20 = X-A\n",
    "\n"
   ]
  },
  {
   "cell_type": "code",
   "execution_count": 19,
   "metadata": {},
   "outputs": [],
   "source": [
    "each pcr tube has 25 uL\n",
    "\n",
    "\n"
   ]
  },
  {
   "cell_type": "code",
   "execution_count": 22,
   "metadata": {},
   "outputs": [
    {
     "name": "stdout",
     "output_type": "stream",
     "text": [
      "17.96\n"
     ]
    }
   ],
   "source": []
  },
  {
   "cell_type": "code",
   "execution_count": null,
   "metadata": {},
   "outputs": [],
   "source": []
  }
 ],
 "metadata": {
  "kernelspec": {
   "display_name": "Python 3",
   "language": "python",
   "name": "python3"
  },
  "language_info": {
   "codemirror_mode": {
    "name": "ipython",
    "version": 3
   },
   "file_extension": ".py",
   "mimetype": "text/x-python",
   "name": "python",
   "nbconvert_exporter": "python",
   "pygments_lexer": "ipython3",
   "version": "3.8.3"
  }
 },
 "nbformat": 4,
 "nbformat_minor": 4
}
