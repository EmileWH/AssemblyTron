{
 "cells": [
  {
   "cell_type": "markdown",
   "metadata": {},
   "source": [
    "# Opentrons Protocol for AFB Epistasis Mutant Cloning"
   ]
  },
  {
   "cell_type": "markdown",
   "metadata": {},
   "source": [
    "First we will import python API (Application Programming Interface) into our script so that we can develop a protol that can be understood by the robot\n"
   ]
  },
  {
   "cell_type": "code",
   "execution_count": 6,
   "metadata": {},
   "outputs": [
    {
     "name": "stdout",
     "output_type": "stream",
     "text": [
      "Requirement already up-to-date: opentrons in c:\\users\\jonbr\\anaconda3\\lib\\site-packages (3.21.2)\n",
      "Requirement already satisfied, skipping upgrade: aionotify==0.2.0 in c:\\users\\jonbr\\anaconda3\\lib\\site-packages (from opentrons) (0.2.0)\n",
      "Requirement already satisfied, skipping upgrade: pyserial==3.4 in c:\\users\\jonbr\\anaconda3\\lib\\site-packages (from opentrons) (3.4)\n",
      "Requirement already satisfied, skipping upgrade: numpy>=1.15.1 in c:\\users\\jonbr\\anaconda3\\lib\\site-packages (from opentrons) (1.18.5)\n",
      "Requirement already satisfied, skipping upgrade: opentrons-shared-data==3.21.2 in c:\\users\\jonbr\\anaconda3\\lib\\site-packages (from opentrons) (3.21.2)\n",
      "Requirement already satisfied, skipping upgrade: urwid==1.3.1 in c:\\users\\jonbr\\anaconda3\\lib\\site-packages (from opentrons) (1.3.1)\n",
      "Requirement already satisfied, skipping upgrade: typing-extensions>=3.7.4.3 in c:\\users\\jonbr\\anaconda3\\lib\\site-packages (from opentrons) (3.7.4.3)\n",
      "Requirement already satisfied, skipping upgrade: jsonschema<4,>=3.0.2 in c:\\users\\jonbr\\anaconda3\\lib\\site-packages (from opentrons) (3.2.0)\n",
      "Requirement already satisfied, skipping upgrade: pyrsistent>=0.14.0 in c:\\users\\jonbr\\anaconda3\\lib\\site-packages (from jsonschema<4,>=3.0.2->opentrons) (0.16.0)\n",
      "Requirement already satisfied, skipping upgrade: setuptools in c:\\users\\jonbr\\anaconda3\\lib\\site-packages (from jsonschema<4,>=3.0.2->opentrons) (49.2.0.post20200714)\n",
      "Requirement already satisfied, skipping upgrade: attrs>=17.4.0 in c:\\users\\jonbr\\anaconda3\\lib\\site-packages (from jsonschema<4,>=3.0.2->opentrons) (19.3.0)\n",
      "Requirement already satisfied, skipping upgrade: six>=1.11.0 in c:\\users\\jonbr\\appdata\\roaming\\python\\python38\\site-packages (from jsonschema<4,>=3.0.2->opentrons) (1.15.0)\n"
     ]
    }
   ],
   "source": [
    "!pip install --upgrade opentrons"
   ]
  },
  {
   "cell_type": "markdown",
   "metadata": {},
   "source": [
    "Metadata is a dictionary of data that is read by the server and returned to the opentrons app. give yourself credit.\n",
    "you are however required to specify the 'apiLevel' here"
   ]
  },
  {
   "cell_type": "code",
   "execution_count": 5,
   "metadata": {},
   "outputs": [
    {
     "name": "stdout",
     "output_type": "stream",
     "text": [
      "{'protocolName': 'AFB Epistasis Mutations Protocol', 'author': 'John Bryant <jbryant2@vt.edu>', 'description': 'Protocol for performing PCR reactions and Plasmid assembly for TIR1 and AFB mutants', 'apiLevel': '2.6'}\n"
     ]
    }
   ],
   "source": [
    "from opentrons import protocol_api\n",
    "metadata = {\n",
    "    'protocolName': 'AFB Epistasis Mutations Protocol',\n",
    "    'author': 'John Bryant <jbryant2@vt.edu>',\n",
    "    'description': 'Protocol for performing PCR reactions and Plasmid assembly for TIR1 and AFB mutants',\n",
    "    'apiLevel': '2.6'\n",
    "}\n",
    "print(metadata)"
   ]
  },
  {
   "cell_type": "markdown",
   "metadata": {},
   "source": [
    "Protocols are structured around a function called run(protocol). The function has to be name \"run\" and must take exactly one mandatory argument (\"protocol\"). function run is a container for the code that defines your protocol. \n",
    "\n",
    "protocol context has 2 responsibilities:\n",
    "1)remember, track, and check robot's state\n",
    "2)expose the functions that make the robot execute actions."
   ]
  },
  {
   "cell_type": "markdown",
   "metadata": {},
   "source": [
    "# Before Running this code, define the following variables: "
   ]
  },
  {
   "cell_type": "code",
   "execution_count": 40,
   "metadata": {},
   "outputs": [],
   "source": [
    "#variables:\n",
    "#primer dilutions:\n",
    "stkprm = 100 #concentration of the stock primer you are adding\n",
    "stkvol = 1 #the volume of stock primer you are adding\n",
    "dilprm = 2.5 #this is the concentration in uM that you want your working dilution to be\n",
    "\n",
    "#template dilutions:\n",
    "stktemp = [157,239,301,198] #input the concentration of each template in this vector in ng/uL\n",
    "stkv = 1 #the volume of template you are adding\n",
    "diltemp = 12.5 #the concentration in ng/uL that you want your working template to be\n",
    "\n",
    "#pcr reaction\n",
    "Numprimers = 4 #this is how many primers go in each pcr reaction.\n",
    "primerconcentration = 0.1 #this is the concentration you want each primer to be in the pcr reaction\n",
    "pcrvol = 25 #this is the total volume of your pcr reaction \n",
    "templatengs = .5 #this is the concentration of template you want in your pcr rxn in ng/uL"
   ]
  },
  {
   "cell_type": "code",
   "execution_count": 41,
   "metadata": {},
   "outputs": [
    {
     "name": "stdout",
     "output_type": "stream",
     "text": [
      "39.0\n"
     ]
    }
   ],
   "source": [
    "#dilvol = ? #this is the volume you bring you stock primer up to in order to make the working dilution\n",
    "\n",
    "dilvol = (stkprm*stkvol)/dilprm #this is the calculation for volume you bring you stock primer up to based on C1V1=C2V2\n",
    "H2OAdd = dilvol-stkvol #this is the amount of H2O that you add to your stock primer. since all stock primers are 100uM\n",
    "                       #concentrations when you start, there is no need to vectorize the H2OAdd variable because it is the\n",
    "                       #same for each primer.\n",
    "print (H2OAdd)"
   ]
  },
  {
   "cell_type": "code",
   "execution_count": 42,
   "metadata": {},
   "outputs": [
    {
     "name": "stdout",
     "output_type": "stream",
     "text": [
      "bring each template up to [12.56 19.12 24.08 15.84] \n",
      "\n",
      "to do this add [11.56 18.12 23.08 14.84] water to each template \n",
      "\n"
     ]
    }
   ],
   "source": [
    "import numpy as np\n",
    "dilv = np.zeros(len(stktemp)) #initiate a the list of volumes that each stk template in the stktemp vector need to be brought up to. A for loop\n",
    "          #will be used to solve for each of these.\n",
    "\n",
    "for i in range(len(stktemp)):\n",
    "    dilv[i] = (stktemp[i]*stkv)/diltemp #this solves for the volume each template in stktemp needs to be brought up to\n",
    "print('bring each template up to',dilv, '\\n')\n",
    "\n",
    "H2OAddtemp = np.zeros(len(stktemp))\n",
    "for i in range(len(stktemp)):\n",
    "    H2OAddtemp[i] = dilv[i] - stkv\n",
    "print('to do this add', H2OAddtemp, 'water to each template','\\n')\n"
   ]
  },
  {
   "cell_type": "code",
   "execution_count": 43,
   "metadata": {},
   "outputs": [
    {
     "name": "stdout",
     "output_type": "stream",
     "text": [
      "you will add 1.0 uL of each primer and 4.0 total\n",
      "you will add 1.0 uL of template\n",
      "you will add 12.5 uL of Q5\n",
      "add 7.5 uL water\n"
     ]
    }
   ],
   "source": [
    "#PCR Reaction\n",
    "\n",
    "Amt2addfor1prm = (primerconcentration*pcrvol)/dilprm #this is the amount of primer that you need to add to get the right primer concentration\n",
    "Amt2addforallprm = Amt2addfor1prm * Numprimers #this is the total amount of primer you will be adding based on number of primers in your rxn\n",
    "print('you will add', Amt2addfor1prm, 'uL of each primer and', Amt2addforallprm, 'total')\n",
    "      \n",
    "Amt2addtemp = (templatengs*pcrvol)/diltemp #this is the amount of template you will add\n",
    "print('you will add', Amt2addtemp, 'uL of template')\n",
    "\n",
    "Q5 = pcrvol/2\n",
    "pcrtotalvolume = Q5 + Amt2addforallprm + Amt2addtemp\n",
    "print('you will add', Q5, 'uL of Q5')\n",
    "\n",
    "wawa = pcrvol - pcrtotalvolume\n",
    "print('add', wawa, 'uL water')\n",
    "\n",
    "if Amt2addfor1prm < 1:\n",
    "    print('Dilute primers more in initial dilution')\n",
    "if Amt2addforallprm > 5:\n",
    "    print('make primer concentration higher in initial dilution')"
   ]
  },
  {
   "cell_type": "code",
   "execution_count": 12,
   "metadata": {},
   "outputs": [],
   "source": [
    "def run(protocol: protocol_api.ProtocolContext):\n",
    "    \n",
    "    #labware:\n",
    "    tiprack1 = protocol.load_labware('opentrons_96_tiprack_300ul', '1')\n",
    "    tiprack2 = protocol.load_labware('opentrons_96_tiprack_20ul','2')\n",
    "    tuberack1 = protocol.load_labware('opentrons_24_tuberack_generic_2ml_screwcap','3') #holds stock primers and templates\n",
    "    bigtuberack = protocol.load_labware('opentrons_15_tuberack_falcon_15ml_conical','4') #holds molec bio grad H2O\n",
    "    tuberack2 = protocol.load_labware('opentrons_24_tuberack_nest_1.5ml_snapcap','5') # holds dilute primers and templates\n",
    "    \n",
    "    tc_mod = protocol.load_module('Thermocycler Module')\n",
    "    plate = tc_mod.load_labware('nest_96_wellplate_100ul_pcr_full_skirt')\n",
    "    \n",
    "    #can put dpnI digestion on either place 6 or 9\n",
    "    \n",
    "    \n",
    "    #pipettes\n",
    "    right_pipette = protocol.load_instrument('p300_single','right',tipracks=[tiprack1])\n",
    "    left_pipette = protocol.load_instrument('p20_single','left',tipracks=[tiprack2])\n",
    "    \n",
    "    #commands\n",
    "    \n",
    "    #put water in for diluted primers (using stkprmh20 variable defined earlier)\n",
    "    p200.distribute(H2OAdd, bigtuberack.wells('C5'), tuberack2.wells('A1','A2','A3','A4','A5','A6','B1','B2','B3','B4','B5','B6','C1','C2','C3','C4','C5','C6','D1','D2','D3'))  # dilutent\n",
    " \n",
    "    # loop through each tuberack well to dilute stock primers\n",
    "    for i in range(len(stktemp)):\n",
    "\n",
    "      # save the source well and destination column to variables\n",
    "      source = tuberack1.wells(i)\n",
    "      destination = tuberack2.wells(i)\n",
    "\n",
    "      # transfer 10uL of source to first well in column (using A variable defined earlier)\n",
    "      left_pipette.transfer(A, source, destination)\n",
    "\n",
    "      # dilute the sample down the column (using A variable defined earlier)\n",
    "      left_pipette.transfer(\n",
    "        A, column.wells('1', to='6'), column.wells('2', to='4'),\n",
    "        mix_after=(3, 25))\n",
    "    \n",
    "    \n",
    "    #need to loop through and dilute both of the templates (using variable B defined above)\n",
    "    p200.distribute(h20totemp, bigtuberack.wells('C5'), tuberack2.wells('D4','D5'))  # dilutent\n",
    " \n",
    "    \n",
    "    left_pipette.pick_up_tip()\n",
    "    left_pipette.aspirate(B,tuberack1['D5'])\n",
    "    left_pipette.dispense(B,tuberack2['D5'])\n",
    "    left_pipette.drop_tip()\n",
    "    #########################################################################################\n",
    "    \n",
    "    #time to start filling up the pcr tubes\n",
    "    \n",
    "    #first add appropriate amount of water\n",
    "    #put water in for diluted primers (using stkprmh20 variable defined earlier)\n",
    "    p200.distribute(amth20, bigtuberack.wells('C5'), plate.wells('A1','A2','A3','A4','A5','A6','A7','A8','A9'] # dilutent\n",
    " \n",
    "    \n",
    "    #move diluted primers into pcr tubes how do i do this with sets of four primers going into each pcr tube\n",
    "    # loop through each tuberack well to dilute diluted primers\n",
    "    for i in range(21):\n",
    "\n",
    "      # save the source well and destination column to variables\n",
    "      source = tuberack2.wells(i)\n",
    "      destination = tuberack2.wells(i)\n",
    "\n",
    "      # transfer 10uL of source to first well in column (using A variable defined earlier)\n",
    "      left_pipette.transfer(A, source, destination)\n",
    "\n",
    "      # dilute the sample down the column (using A variable defined earlier)\n",
    "      left_pipette.transfer(\n",
    "        A, column.wells('1', to='6'), column.wells('2', to='4'),\n",
    "        mix_after=(3, 25))\n",
    "    \n",
    "      #move diluted templates into pcr tubes - this should probable be done with an if else statement\n",
    "                                                                 \n",
    "    \n",
    "   \n",
    "    #######################################################################################################\n",
    "                                                                 \n",
    "    #set up pcr reaction in the thermocycler module\n",
    "    \n",
    "    #open lid\n",
    "    tc_mod.open_lid()\n",
    "    \n",
    "    #close lid\n",
    "    tc_mod.close_lid()\n",
    "    \n",
    "    #set lid temperature\n",
    "    tc_mod.set_lid_temperature(100)\n",
    "    \n",
    "    #set block temp profile\n",
    "   \n",
    "    tc_mod.execute_profile(98, hold_time_seconds=30, block_max_volume=50)\n",
    "\n",
    "    profile = [\n",
    "    {'temperature': 98, 'hold_time_seconds': 10},\n",
    "    {'temperature': 65, 'hold_time_seconds': 30},\n",
    "    {'temperature': 72, }]\n",
    "\n",
    "    tc_mod.execute_profile(steps=profile, repetitions=34, block_max_volume=50)\n",
    "    \n",
    "    tc_mod.execute_profile(72, hold_time_minutes=5, block_max_volume=50)\n",
    "    \n",
    "    ################################################################################\n",
    "    #add DpnI for digestion\n",
    "    #add DpnI to each PCR product\n",
    "    \n",
    "    \n",
    "\n",
    "    "
   ]
  },
  {
   "cell_type": "markdown",
   "metadata": {},
   "source": [
    "first we need dilute the stock primers\n",
    "\n",
    "start off by adding water"
   ]
  },
  {
   "cell_type": "code",
   "execution_count": null,
   "metadata": {},
   "outputs": [],
   "source": [
    "#commands\n",
    "    \n",
    "#put water in for diluted primers by using nested for loop and H2OAdd vector \n",
    "Rows = ('A','B','C','D')\n",
    "columns = ('1','2','3','4','5','6')\n",
    "\n",
    "for i in Rows:\n",
    "    for j in columns:\n",
    "        \n",
    "        if i+j = 'D4'\n",
    "            break\n",
    "        \n",
    "        # save the source well and destination column to variables\n",
    "        source = bigtuberack('C5')\n",
    "        destination = tuberack2.wells(i+j)\n",
    "        \n",
    "       \n",
    "            \n",
    "        left_pipette.pick_up_tip()\n",
    "        left_pipette.aspirate(H2OAdd,source)\n",
    "        left_pipette.dispense(H2OAdd,destination)\n",
    "        left_pipette.drop_tip()\n",
    "        "
   ]
  },
  {
   "cell_type": "markdown",
   "metadata": {},
   "source": [
    "Now add in the stock primer"
   ]
  },
  {
   "cell_type": "code",
   "execution_count": null,
   "metadata": {},
   "outputs": [],
   "source": [
    "for i in Rows:\n",
    "    for j in columns:\n",
    "        \n",
    "        source = tuberack1.wells(i+j)\n",
    "        destination = tuberack2.wells(i+j)\n",
    "        \n",
    "        left_pipette.pick_up_tip()\n",
    "        left_pipette.aspirate(stkvol,source)\n",
    "        left_pipette.dispense(stkvol,destination)\n",
    "        left_pipette.drop_tip()\n",
    "        "
   ]
  },
  {
   "cell_type": "markdown",
   "metadata": {},
   "source": [
    "Now dilute the template. "
   ]
  },
  {
   "cell_type": "code",
   "execution_count": null,
   "metadata": {},
   "outputs": [],
   "source": [
    "source = tuberack1.wells\n",
    "\n",
    "#put water in for templates by using nested for loop and H2OAdd vector \n",
    "Rowstemp = ('D')\n",
    "columnstemp = ('4','5')\n",
    "\n",
    "for i in Rowstemp:\n",
    "    for j in columnstemp:\n",
    "        \n",
    "        if i+j = 'D6'\n",
    "            break\n",
    "        \n",
    "        # save the source well and destination column to variables\n",
    "        source = tuberack1.wells(i+j)\n",
    "        destination = tuberack2.wells(i+j)\n",
    "        \n",
    " #specifying how much water to add to each well, might be good to use a dictionary here\n",
    "\n",
    "        if i+j == 'D4':\n",
    "            w = 1\n",
    "        if i+j == 'D5':\n",
    "            w = 2\n",
    "            \n",
    "        left_pipette.pick_up_tip()\n",
    "        left_pipette.aspirate(H2OAddtemp[w],source)\n",
    "        left_pipette.dispense(H2OAddtemp[w],destination)\n",
    "        left_pipette.drop_tip()\n"
   ]
  },
  {
   "cell_type": "code",
   "execution_count": null,
   "metadata": {},
   "outputs": [],
   "source": [
    "for i in Rowstemp:\n",
    "    for j in columnstemp:\n",
    "        \n",
    "        source = tuberack1.wells(i+j)\n",
    "        destination = tuberack2.wells(i+j)\n",
    "        \n",
    "        left_pipette.pick_up_tip()\n",
    "        left_pipette.aspirate(stkv,source)\n",
    "        left_pipette.dispense(stkv,destination)\n",
    "        left_pipette.drop_tip()\n",
    "        "
   ]
  },
  {
   "cell_type": "markdown",
   "metadata": {},
   "source": [
    "Now we have to set up the PCR reactions with the diluted primers and templates set up in previous steps"
   ]
  },
  {
   "cell_type": "code",
   "execution_count": null,
   "metadata": {},
   "outputs": [],
   "source": [
    "#for AFB epistasis we will have 9 pcr reactions\n",
    "\n",
    "Rowspcr = ('A')\n",
    "columnspcr = ('1','2','3','4','5','6','7','8','9')\n",
    "\n",
    "for i in Rowspcr:\n",
    "    for j in columnspcr:\n",
    "        \n",
    "        source = tuberack2.wells\n",
    "\n",
    "\n"
   ]
  },
  {
   "cell_type": "code",
   "execution_count": null,
   "metadata": {},
   "outputs": [],
   "source": [
    "assemblyrxns = [0,1,2,3,4,5,6,7,8]\n",
    "assemblytubes = ['A1','A2','A3','A4','A5','A6','A7','A8','A9']\n",
    "\n",
    "#put water in each one\n",
    "for i in assemblytubes:\n",
    "    source = bigtuberack.wells('C5')\n",
    "    destination = plate.wells(i)\n",
    "    \n",
    "    left_pipette.pick_up_tip()\n",
    "    left_pipette.aspirate(H2OAdd,source)\n",
    "    left_pipette.dispense(H2OAdd,destination)\n",
    "    left_pipette.drop_tip()\n",
    "\n",
    "#put template in each one\n",
    "\n",
    "\n",
    "#put primer in each one\n",
    "for i in assemblyrxns:\n",
    "    \n",
    "    listofprimerlocations = Assembly2wells[str(i)][0]\n",
    "    \n",
    "    for j in len(Numprimers):\n",
    "        \n",
    "        source = tuberack2.wells(listofprimerlocations[j])\n",
    "        destination = plate.wells(assemblyrxn2pcrtube[str(i)])\n",
    "        \n",
    "        left_pipette.pick_up_tip()\n",
    "        left_pipette.aspirate(Amt2addfor1prm,source)\n",
    "        left_pipette.aspirate(Amt2addfor1prm,destination)\n",
    "        left_pipette.drop_tip()\n",
    "\n",
    "#put Q5 in each one\n",
    "for i in assemblytubes:\n",
    "    \n",
    "    source = ?????????.wells('??')\n",
    "    destination = plate.wells(i)\n",
    "    "
   ]
  }
 ],
 "metadata": {
  "kernelspec": {
   "display_name": "Python 3",
   "language": "python",
   "name": "python3"
  },
  "language_info": {
   "codemirror_mode": {
    "name": "ipython",
    "version": 3
   },
   "file_extension": ".py",
   "mimetype": "text/x-python",
   "name": "python",
   "nbconvert_exporter": "python",
   "pygments_lexer": "ipython3",
   "version": "3.8.5"
  }
 },
 "nbformat": 4,
 "nbformat_minor": 4
}
