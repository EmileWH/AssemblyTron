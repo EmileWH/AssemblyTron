{
 "cells": [
  {
   "cell_type": "code",
   "execution_count": null,
   "id": "cabf552a",
   "metadata": {},
   "outputs": [],
   "source": []
  },
  {
   "cell_type": "markdown",
   "id": "d6fe11d2",
   "metadata": {},
   "source": [
    "#pipette cleaning protocol, Cameron Longmire, 11/9/21"
   ]
  },
  {
   "cell_type": "code",
   "execution_count": null,
   "id": "4cf2bf57",
   "metadata": {},
   "outputs": [],
   "source": [
    "#Load packages"
   ]
  },
  {
   "cell_type": "code",
   "execution_count": null,
   "id": "35575ac2",
   "metadata": {},
   "outputs": [],
   "source": [
    "#Load Labware "
   ]
  },
  {
   "cell_type": "code",
   "execution_count": null,
   "id": "d2a72d39",
   "metadata": {},
   "outputs": [],
   "source": [
    "#Protocol"
   ]
  }
 ],
 "metadata": {
  "kernelspec": {
   "display_name": "Python 3",
   "language": "python",
   "name": "python3"
  },
  "language_info": {
   "codemirror_mode": {
    "name": "ipython",
    "version": 3
   },
   "file_extension": ".py",
   "mimetype": "text/x-python",
   "name": "python",
   "nbconvert_exporter": "python",
   "pygments_lexer": "ipython3",
   "version": "3.8.8"
  }
 },
 "nbformat": 4,
 "nbformat_minor": 5
}
