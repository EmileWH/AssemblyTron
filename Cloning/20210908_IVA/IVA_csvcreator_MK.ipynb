{
 "cells": [
  {
   "cell_type": "markdown",
   "metadata": {},
   "source": [
    "# Code written by Mason Kellinger 9/8/2021\n",
    "Goal of script is to create csv using tkinter that can be used in IVA script"
   ]
  },
  {
   "cell_type": "code",
   "execution_count": null,
   "metadata": {},
   "outputs": [],
   "source": [
    "import tkinter as tk\n",
    "import csv\n",
    "import pandas as pd"
   ]
  },
  {
   "cell_type": "code",
   "execution_count": null,
   "metadata": {},
   "outputs": [],
   "source": [
    "from tkinter import *\n",
    "\n",
    "csv_root = tk.Tk()\n",
    "csv_root.geometry(\"400x400\")\n",
    "csv_root.title(\"Parameter's for IVA Assembly\")\n",
    "\n",
    "def confirm():\n",
    "    csv_root.destroy()\n",
    "    \n",
    "def set_variables():\n",
    "    global stkprm\n",
    "    global stkvol\n",
    "    global \n",
    "    stkprm = float(stkprm_entry.get())\n",
    "    \n",
    "\n",
    "\n",
    "\n"
   ]
  }
 ],
 "metadata": {
  "kernelspec": {
   "display_name": "Python 3",
   "language": "python",
   "name": "python3"
  },
  "language_info": {
   "codemirror_mode": {
    "name": "ipython",
    "version": 3
   },
   "file_extension": ".py",
   "mimetype": "text/x-python",
   "name": "python",
   "nbconvert_exporter": "python",
   "pygments_lexer": "ipython3",
   "version": "3.8.5"
  }
 },
 "nbformat": 4,
 "nbformat_minor": 4
}
