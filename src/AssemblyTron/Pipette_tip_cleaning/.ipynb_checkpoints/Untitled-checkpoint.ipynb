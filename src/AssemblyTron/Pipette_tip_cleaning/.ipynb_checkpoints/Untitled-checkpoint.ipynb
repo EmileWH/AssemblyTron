{
 "cells": [
  {
   "cell_type": "code",
   "execution_count": null,
   "id": "interested-venture",
   "metadata": {},
   "outputs": [],
   "source": [
    "'protocolName': 'gibson_assembly',\n",
    "'author':'Cameron Longmire <camel94@vt.edu>',\n",
    "'description':'Pipette cleaning',\n",
    "'apiLevel':'2.2'"
   ]
  },
  {
   "cell_type": "markdown",
   "id": "editorial-prospect",
   "metadata": {},
   "source": [
    "#pipette cleaning protocol, Cameron Longmire, 11/9/21"
   ]
  },
  {
   "cell_type": "code",
   "execution_count": 16,
   "id": "hydraulic-colony",
   "metadata": {},
   "outputs": [
    {
     "name": "stderr",
     "output_type": "stream",
     "text": [
      "C:\\Users\\camdaman\\.opentrons\\robot_settings.json not found. Loading defaults\n",
      "C:\\Users\\camdaman\\.opentrons\\deck_calibration.json not found. Loading defaults\n"
     ]
    }
   ],
   "source": [
    "#Load packages\n",
    "from opentrons import protocol_api\n",
    "from opentrons import simulate\n",
    "protocol = simulate.get_protocol_api('2.2')\n",
    "\n",
    "import pandas\n",
    "import numpy as np\n",
    "import os"
   ]
  },
  {
   "cell_type": "code",
   "execution_count": 17,
   "id": "baking-bibliography",
   "metadata": {},
   "outputs": [],
   "source": [
    "#Have a tkinter prompt window that requests what pipette volume we will be cleaning and how many sets of that volume?\n",
    "\n",
    "#Load Labware \n",
    "tiprack1 = protocol.load_labware('opentrons_96_tiprack_20ul',4)#verify location\n",
    "tiprack2 = protocol.load_labware('opentrons_96_tiprack_300ul',5)#verify location\n",
    "solutionrack = protocol.load_labware('opentrons_6_tuberack_falcon_50ml_conical',3)#verify location\n",
    "left_pipette = protocol.load_instrument('p20_single_gen2','left')"
   ]
  },
  {
   "cell_type": "code",
   "execution_count": 18,
   "id": "presidential-jerusalem",
   "metadata": {},
   "outputs": [],
   "source": [
    "#Can I turn off some parts of the process if we clean more than one or one type of tip? take input to clean multiple types of tips?"
   ]
  },
  {
   "cell_type": "code",
   "execution_count": null,
   "id": "directed-target",
   "metadata": {},
   "outputs": [],
   "source": []
  },
  {
   "cell_type": "code",
   "execution_count": 26,
   "id": "interior-method",
   "metadata": {},
   "outputs": [],
   "source": [
    "\n",
    "\n",
    "#Protocol\n",
    "r=1\n",
    "if r > 13:\n",
    "    left_pipette.pick_up_tip(tiprack1[a[r]])  \n",
    "    left_pipette.mix(3,20,solutionrack['A1'])\n",
    "    left_pipette.blow_out()\n",
    "    left_pipette.return_tip()\n",
    "    r += 1\n",
    "r=1\n",
    "if r > 13:\n",
    "    left_pipette.pick_up_tip(tiprack1[b[r]])  #And so on and so forth? c,d,e,f,g?\n",
    "    left_pipette.mix(3,20,solutionrack['A1'])\n",
    "    left_pipette.blow_out()\n",
    "    left_pipette.return_tip()\n",
    "    r += 1\n",
    "\n",
    "    \n",
    "    \n"
   ]
  },
  {
   "cell_type": "code",
   "execution_count": null,
   "id": "prospective-carter",
   "metadata": {},
   "outputs": [],
   "source": []
  }
 ],
 "metadata": {
  "kernelspec": {
   "display_name": "Python 3",
   "language": "python",
   "name": "python3"
  },
  "language_info": {
   "codemirror_mode": {
    "name": "ipython",
    "version": 3
   },
   "file_extension": ".py",
   "mimetype": "text/x-python",
   "name": "python",
   "nbconvert_exporter": "python",
   "pygments_lexer": "ipython3",
   "version": "3.8.8"
  }
 },
 "nbformat": 4,
 "nbformat_minor": 5
}
