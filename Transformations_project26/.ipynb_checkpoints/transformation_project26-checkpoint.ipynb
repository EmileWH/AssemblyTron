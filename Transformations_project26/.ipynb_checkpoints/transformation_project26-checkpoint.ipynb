{
 "cells": [
  {
   "cell_type": "code",
   "execution_count": 8,
   "metadata": {},
   "outputs": [
    {
     "name": "stdout",
     "output_type": "stream",
     "text": [
      "Requirement already satisfied: pyarrow in c:\\users\\nonyia17\\anaconda3\\lib\\site-packages (2.0.0)\n",
      "Requirement already satisfied: numpy>=1.14 in c:\\users\\nonyia17\\anaconda3\\lib\\site-packages (from pyarrow) (1.19.2)\n"
     ]
    }
   ],
   "source": [
    "!pip install pyarrow"
   ]
  },
  {
   "cell_type": "code",
   "execution_count": 9,
   "metadata": {},
   "outputs": [],
   "source": [
    "import pyarrow.feather as ft \n",
    "\n",
    "path= \"/Users/nonyia17/Documents/GitHub/opentrons/\"\n",
    "\n",
    "assemblies = feather.read_dataframe(path)\n",
    "assemblies"
   ]
  },
  {
   "cell_type": "code",
   "execution_count": 5,
   "metadata": {},
   "outputs": [
    {
     "name": "stdout",
     "output_type": "stream",
     "text": [
      "Requirement already satisfied: opentrons in c:\\users\\nonyia17\\anaconda3\\lib\\site-packages (4.1.1)\n",
      "Requirement already satisfied: numpy>=1.15.1 in c:\\users\\nonyia17\\anaconda3\\lib\\site-packages (from opentrons) (1.19.2)\n",
      "Requirement already satisfied: opentrons-shared-data==4.1.1 in c:\\users\\nonyia17\\anaconda3\\lib\\site-packages (from opentrons) (4.1.1)\n",
      "Requirement already satisfied: pyserial==3.5 in c:\\users\\nonyia17\\anaconda3\\lib\\site-packages (from opentrons) (3.5)\n",
      "Requirement already satisfied: pydantic==1.4 in c:\\users\\nonyia17\\anaconda3\\lib\\site-packages (from opentrons) (1.4)\n",
      "Requirement already satisfied: jsonschema<4,>=3.0.2 in c:\\users\\nonyia17\\anaconda3\\lib\\site-packages (from opentrons) (3.2.0)\n",
      "Requirement already satisfied: aionotify==0.2.0 in c:\\users\\nonyia17\\anaconda3\\lib\\site-packages (from opentrons) (0.2.0)\n",
      "Requirement already satisfied: typing-extensions>=3.7.4.3 in c:\\users\\nonyia17\\anaconda3\\lib\\site-packages (from opentrons) (3.7.4.3)\n",
      "Requirement already satisfied: six>=1.11.0 in c:\\users\\nonyia17\\anaconda3\\lib\\site-packages (from jsonschema<4,>=3.0.2->opentrons) (1.15.0)\n",
      "Requirement already satisfied: pyrsistent>=0.14.0 in c:\\users\\nonyia17\\anaconda3\\lib\\site-packages (from jsonschema<4,>=3.0.2->opentrons) (0.17.3)\n",
      "Requirement already satisfied: setuptools in c:\\users\\nonyia17\\anaconda3\\lib\\site-packages (from jsonschema<4,>=3.0.2->opentrons) (50.3.1.post20201107)\n",
      "Requirement already satisfied: attrs>=17.4.0 in c:\\users\\nonyia17\\anaconda3\\lib\\site-packages (from jsonschema<4,>=3.0.2->opentrons) (20.3.0)\n"
     ]
    }
   ],
   "source": [
    "import sys \n",
    "!{sys.executable} -m pip install opentrons"
   ]
  },
  {
   "cell_type": "code",
   "execution_count": 7,
   "metadata": {},
   "outputs": [
    {
     "name": "stderr",
     "output_type": "stream",
     "text": [
      "C:\\Users\\nonyia17\\.opentrons\\robot_settings.json not found. Loading defaults\n",
      "C:\\Users\\nonyia17\\.opentrons\\deck_calibration.json not found. Loading defaults\n"
     ]
    }
   ],
   "source": [
    "from opentrons import simulate \n",
    "protocol = simulate.get_protocol_api('2.2')\n",
    "\n",
    "\n"
   ]
  },
  {
   "cell_type": "code",
   "execution_count": null,
   "metadata": {},
   "outputs": [],
   "source": []
  }
 ],
 "metadata": {
  "kernelspec": {
   "display_name": "Python 3",
   "language": "python",
   "name": "python3"
  },
  "language_info": {
   "codemirror_mode": {
    "name": "ipython",
    "version": 3
   },
   "file_extension": ".py",
   "mimetype": "text/x-python",
   "name": "python",
   "nbconvert_exporter": "python",
   "pygments_lexer": "ipython3",
   "version": "3.8.5"
  }
 },
 "nbformat": 4,
 "nbformat_minor": 4
}
