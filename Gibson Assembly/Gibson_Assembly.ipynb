{
 "cells": [
  {
   "cell_type": "markdown",
   "metadata": {},
   "source": [
    "# Opentrons Protocol for Gibosn Assembly"
   ]
  },
  {
   "cell_type": "markdown",
   "metadata": {},
   "source": [
    "Do I need to import the python API here?\n",
    "Do I need to import a feather file?"
   ]
  },
  {
   "cell_type": "code",
   "execution_count": null,
   "metadata": {},
   "outputs": [],
   "source": [
    "from opentrons import protocol_gibson\n",
    "metadata = {\n",
    "    'protocolName': 'gibson_assembly',\n",
    "    'author':'Cameron Longmrie <camel94@vt.edu>',\n",
    "    'description': 'Gibson Assembly protocol for Opentrons'\n",
    "    'apiLevel':'2.9\n",
    "}"
   ]
  },
  {
   "cell_type": "markdown",
   "metadata": {},
   "source": [
    "What protocol run function should I use for this?"
   ]
  },
  {
   "cell_type": "code",
   "execution_count": null,
   "metadata": {},
   "outputs": [],
   "source": [
    "#protocol run function. the part after the colon lets your editor know\n",
    "#where to look for autocomplete suggestions\n",
    "\n",
    "def run(protocol: protocol_api.ProtocolContext):\n",
    "\n"
   ]
  },
  {
   "cell_type": "markdown",
   "metadata": {},
   "source": [
    "Labware\n",
    "Need to define a place for linearized vector backbone, master mix, each additional assembly piece, and the thermocycler"
   ]
  },
  {
   "cell_type": "code",
   "execution_count": null,
   "metadata": {},
   "outputs": [],
   "source": [
    "TempUnit = protocol.load_labware('TemperatureUnit','4')\n",
    "tiprack1 = protocol.load_labware('opentrons_96_tiprack_20ul','1')\n",
    "left_pipette = protocol.load_tools('p20_single','left','tip_racks = [tiprack1]')\n",
    "mastermix_rack = protocol.load_labware('opentrons_96_tuberack_2ml','2')\n",
    "assembly_piece_rack = protocol.load_labware('opentrons_96_tuberack_2ml','3')\n",
    "tuberack = protocol.load_labware('opentrons_24_tuberack_nest_2ml_snapcap','5') #should the reaction tube be a 2ml snapcap?"
   ]
  },
  {
   "cell_type": "markdown",
   "metadata": {},
   "source": [
    "Transport master mix to reaction tube"
   ]
  },
  {
   "cell_type": "code",
   "execution_count": null,
   "metadata": {},
   "outputs": [],
   "source": [
    "left_pipette.pick_up_tip(tiprack1['A1'])\n",
    "left_pipette.aspirate(15, plate['A2']) #need to pick up 15 ul of master mix\n",
    "left_pipette.dispense(16.5, plate['A5']) # need to dispense 15 ul of master mix *1.1 for 10% rule into reaction tube\n",
    "left_pipette.drop_tip() #can we reuse this tip?"
   ]
  },
  {
   "cell_type": "markdown",
   "metadata": {},
   "source": [
    "trasport assembly pieces to reaction tube"
   ]
  },
  {
   "cell_type": "code",
   "execution_count": null,
   "metadata": {},
   "outputs": [],
   "source": [
    "left_pipette.pick_up_tip(tiprack1['A1'])\n",
    "left_pipette.asperate()#how much linearized vector backbone should be asperated to reach 100ng\n",
    "left_pipette.dispense()\n",
    "left_pipette.drop_tip"
   ]
  },
  {
   "cell_type": "markdown",
   "metadata": {},
   "source": [
    "add dH20 to reaction tube to 20ul"
   ]
  },
  {
   "cell_type": "code",
   "execution_count": null,
   "metadata": {},
   "outputs": [],
   "source": []
  },
  {
   "cell_type": "markdown",
   "metadata": {},
   "source": [
    "transport reaction tube to thermocycler "
   ]
  },
  {
   "cell_type": "code",
   "execution_count": null,
   "metadata": {},
   "outputs": [],
   "source": [
    "tuberack.move_to()"
   ]
  },
  {
   "cell_type": "markdown",
   "metadata": {},
   "source": [
    "Incubate at 50C for 60 min"
   ]
  },
  {
   "cell_type": "code",
   "execution_count": null,
   "metadata": {},
   "outputs": [],
   "source": []
  }
 ],
 "metadata": {
  "kernelspec": {
   "display_name": "Python 3",
   "language": "python",
   "name": "python3"
  },
  "language_info": {
   "codemirror_mode": {
    "name": "ipython",
    "version": 3
   },
   "file_extension": ".py",
   "mimetype": "text/x-python",
   "name": "python",
   "nbconvert_exporter": "python",
   "pygments_lexer": "ipython3",
   "version": "3.8.5"
  }
 },
 "nbformat": 4,
 "nbformat_minor": 4
}
